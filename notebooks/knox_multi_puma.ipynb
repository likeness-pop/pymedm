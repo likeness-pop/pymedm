{
 "cells": [
  {
   "cell_type": "code",
   "execution_count": 1,
   "id": "e0e7db42",
   "metadata": {
    "ExecuteTime": {
     "end_time": "2023-06-28T19:49:35.844696Z",
     "start_time": "2023-06-28T19:49:35.761081Z"
    },
    "execution": {
     "iopub.execute_input": "2025-03-28T00:44:06.501974Z",
     "iopub.status.busy": "2025-03-28T00:44:06.501569Z",
     "iopub.status.idle": "2025-03-28T00:44:06.526648Z",
     "shell.execute_reply": "2025-03-28T00:44:06.526184Z",
     "shell.execute_reply.started": "2025-03-28T00:44:06.501954Z"
    }
   },
   "outputs": [
    {
     "name": "stdout",
     "output_type": "stream",
     "text": [
      "Last updated: 2025-03-27T20:44:06.517811-04:00\n",
      "\n",
      "Python implementation: CPython\n",
      "Python version       : 3.12.9\n",
      "IPython version      : 9.0.2\n",
      "\n",
      "Compiler    : Clang 18.1.8 \n",
      "OS          : Darwin\n",
      "Release     : 24.3.0\n",
      "Machine     : arm64\n",
      "Processor   : arm\n",
      "CPU cores   : 16\n",
      "Architecture: 64bit\n",
      "\n"
     ]
    }
   ],
   "source": [
    "%load_ext watermark\n",
    "%watermark"
   ]
  },
  {
   "cell_type": "code",
   "execution_count": 2,
   "id": "33751a55",
   "metadata": {
    "ExecuteTime": {
     "end_time": "2023-06-28T19:49:37.431280Z",
     "start_time": "2023-06-28T19:49:35.847877Z"
    },
    "execution": {
     "iopub.execute_input": "2025-03-28T00:44:06.527392Z",
     "iopub.status.busy": "2025-03-28T00:44:06.527266Z",
     "iopub.status.idle": "2025-03-28T00:44:06.974015Z",
     "shell.execute_reply": "2025-03-28T00:44:06.973746Z",
     "shell.execute_reply.started": "2025-03-28T00:44:06.527377Z"
    }
   },
   "outputs": [
    {
     "name": "stdout",
     "output_type": "stream",
     "text": [
      "Watermark: 2.5.0\n",
      "\n",
      "pandas      : 2.2.3\n",
      "pymedm      : 2.2.4.dev18+g1a367c4.d20250328\n",
      "jaxopt      : 0.8.3\n",
      "numpy       : 2.2.4\n",
      "jaxlib      : 0.5.3\n",
      "multiprocess: 0.70.17\n",
      "jax         : 0.5.3\n",
      "scipy       : 1.15.2\n",
      "\n"
     ]
    }
   ],
   "source": [
    "import time\n",
    "\n",
    "import jax\n",
    "import jaxlib\n",
    "import jaxopt\n",
    "import numpy as np\n",
    "import pandas as pd\n",
    "import scipy\n",
    "from multiprocess import pool\n",
    "\n",
    "import pymedm\n",
    "from pymedm import batch\n",
    "from pymedm.diagnostics import moe_fit_rate\n",
    "from pymedm.puma import puma\n",
    "\n",
    "%watermark -w\n",
    "%watermark -iv"
   ]
  },
  {
   "cell_type": "code",
   "execution_count": 3,
   "id": "c8151128",
   "metadata": {
    "ExecuteTime": {
     "end_time": "2023-06-28T19:49:38.117884Z",
     "start_time": "2023-06-28T19:49:37.436024Z"
    },
    "execution": {
     "iopub.execute_input": "2025-03-28T00:44:06.974564Z",
     "iopub.status.busy": "2025-03-28T00:44:06.974452Z",
     "iopub.status.idle": "2025-03-28T00:44:07.009734Z",
     "shell.execute_reply": "2025-03-28T00:44:07.009506Z",
     "shell.execute_reply.started": "2025-03-28T00:44:06.974555Z"
    }
   },
   "outputs": [
    {
     "data": {
      "text/html": [
       "<div>\n",
       "<style scoped>\n",
       "    .dataframe tbody tr th:only-of-type {\n",
       "        vertical-align: middle;\n",
       "    }\n",
       "\n",
       "    .dataframe tbody tr th {\n",
       "        vertical-align: top;\n",
       "    }\n",
       "\n",
       "    .dataframe thead th {\n",
       "        text-align: right;\n",
       "    }\n",
       "</style>\n",
       "<table border=\"1\" class=\"dataframe\">\n",
       "  <thead>\n",
       "    <tr style=\"text-align: right;\">\n",
       "      <th></th>\n",
       "      <th>device</th>\n",
       "      <th>available</th>\n",
       "      <th>count</th>\n",
       "    </tr>\n",
       "  </thead>\n",
       "  <tbody>\n",
       "    <tr>\n",
       "      <th>0</th>\n",
       "      <td>cpu</td>\n",
       "      <td>yes</td>\n",
       "      <td>1</td>\n",
       "    </tr>\n",
       "    <tr>\n",
       "      <th>1</th>\n",
       "      <td>gpu</td>\n",
       "      <td>no</td>\n",
       "      <td>0</td>\n",
       "    </tr>\n",
       "    <tr>\n",
       "      <th>2</th>\n",
       "      <td>tpu</td>\n",
       "      <td>no</td>\n",
       "      <td>0</td>\n",
       "    </tr>\n",
       "  </tbody>\n",
       "</table>\n",
       "</div>"
      ],
      "text/plain": [
       "  device available  count\n",
       "0    cpu       yes      1\n",
       "1    gpu        no      0\n",
       "2    tpu        no      0"
      ]
     },
     "execution_count": 3,
     "metadata": {},
     "output_type": "execute_result"
    }
   ],
   "source": [
    "pymedm.processor_availability()"
   ]
  },
  {
   "cell_type": "markdown",
   "id": "1690fcac",
   "metadata": {},
   "source": [
    "## Setup PUMAs"
   ]
  },
  {
   "cell_type": "code",
   "execution_count": 4,
   "id": "464ac7e9",
   "metadata": {
    "ExecuteTime": {
     "end_time": "2023-06-28T19:49:38.166311Z",
     "start_time": "2023-06-28T19:49:38.163295Z"
    },
    "execution": {
     "iopub.execute_input": "2025-03-28T00:44:07.010236Z",
     "iopub.status.busy": "2025-03-28T00:44:07.010158Z",
     "iopub.status.idle": "2025-03-28T00:44:07.011780Z",
     "shell.execute_reply": "2025-03-28T00:44:07.011569Z",
     "shell.execute_reply.started": "2025-03-28T00:44:07.010227Z"
    }
   },
   "outputs": [],
   "source": [
    "pumas = [\"4701601\", \"4701602\", \"4701603\", \"4701604\"]"
   ]
  },
  {
   "cell_type": "code",
   "execution_count": 5,
   "id": "1b71cfcc",
   "metadata": {
    "ExecuteTime": {
     "end_time": "2023-06-28T19:49:38.171483Z",
     "start_time": "2023-06-28T19:49:38.168668Z"
    },
    "execution": {
     "iopub.execute_input": "2025-03-28T00:44:07.012133Z",
     "iopub.status.busy": "2025-03-28T00:44:07.012064Z",
     "iopub.status.idle": "2025-03-28T00:44:07.013778Z",
     "shell.execute_reply": "2025-03-28T00:44:07.013385Z",
     "shell.execute_reply.started": "2025-03-28T00:44:07.012125Z"
    }
   },
   "outputs": [],
   "source": [
    "mpu = dict.fromkeys(pumas)"
   ]
  },
  {
   "cell_type": "code",
   "execution_count": 6,
   "id": "04a1d3f1",
   "metadata": {
    "ExecuteTime": {
     "end_time": "2023-06-28T19:49:38.650516Z",
     "start_time": "2023-06-28T19:49:38.173706Z"
    },
    "execution": {
     "iopub.execute_input": "2025-03-28T00:44:07.015300Z",
     "iopub.status.busy": "2025-03-28T00:44:07.015182Z",
     "iopub.status.idle": "2025-03-28T00:44:07.133672Z",
     "shell.execute_reply": "2025-03-28T00:44:07.133338Z",
     "shell.execute_reply.started": "2025-03-28T00:44:07.015292Z"
    }
   },
   "outputs": [],
   "source": [
    "for p in pumas:\n",
    "    cind = pd.read_csv(\"../data/knox/cind_\" + p + \".csv.gz\", index_col=0)\n",
    "    cg1 = pd.read_csv(\"../data/knox/cg1_\" + p + \".csv.gz\", index_col=0)\n",
    "    cg2 = pd.read_csv(\"../data/knox/cg2_\" + p + \".csv.gz\", index_col=0)\n",
    "    sg1 = pd.read_csv(\"../data/knox/sg1_\" + p + \".csv.gz\", index_col=0)\n",
    "    sg2 = pd.read_csv(\"../data/knox/sg2_\" + p + \".csv.gz\", index_col=0)\n",
    "    wt = pd.read_csv(\"../data/knox/wt_\" + p + \".csv.gz\", index_col=0).values.flatten()\n",
    "\n",
    "    mpu[p] = puma(\n",
    "        cind.index.values,\n",
    "        2019,\n",
    "        wt,\n",
    "        cind,\n",
    "        cg1,\n",
    "        cg2,\n",
    "        sg1,\n",
    "        sg2,\n",
    "    )"
   ]
  },
  {
   "cell_type": "code",
   "execution_count": 7,
   "id": "84ebffe4",
   "metadata": {
    "ExecuteTime": {
     "end_time": "2023-06-28T19:49:38.660414Z",
     "start_time": "2023-06-28T19:49:38.654188Z"
    },
    "execution": {
     "iopub.execute_input": "2025-03-28T00:44:07.134102Z",
     "iopub.status.busy": "2025-03-28T00:44:07.134015Z",
     "iopub.status.idle": "2025-03-28T00:44:07.136166Z",
     "shell.execute_reply": "2025-03-28T00:44:07.135956Z",
     "shell.execute_reply.started": "2025-03-28T00:44:07.134093Z"
    }
   },
   "outputs": [
    {
     "data": {
      "text/plain": [
       "{'4701601': <pymedm.puma.puma at 0x16ea620c0>,\n",
       " '4701602': <pymedm.puma.puma at 0x17819ee10>,\n",
       " '4701603': <pymedm.puma.puma at 0x17b2faab0>,\n",
       " '4701604': <pymedm.puma.puma at 0x17b2af590>}"
      ]
     },
     "execution_count": 7,
     "metadata": {},
     "output_type": "execute_result"
    }
   ],
   "source": [
    "mpu"
   ]
  },
  {
   "cell_type": "markdown",
   "id": "c4e35ed4",
   "metadata": {},
   "source": [
    "## Solve P-MEDM Problems"
   ]
  },
  {
   "cell_type": "code",
   "execution_count": 8,
   "id": "160cbd92",
   "metadata": {
    "execution": {
     "iopub.execute_input": "2025-03-28T00:44:07.136552Z",
     "iopub.status.busy": "2025-03-28T00:44:07.136479Z",
     "iopub.status.idle": "2025-03-28T00:44:11.733578Z",
     "shell.execute_reply": "2025-03-28T00:44:11.733196Z",
     "shell.execute_reply.started": "2025-03-28T00:44:07.136544Z"
    }
   },
   "outputs": [],
   "source": [
    "pmd_workers = pool.ThreadPool(60)\n",
    "pmds = pmd_workers.map(\n",
    "    lambda p: pymedm.PMEDM(\n",
    "        mpu[p].est_ind.index,\n",
    "        mpu[p].year,\n",
    "        mpu[p].wt,\n",
    "        mpu[p].est_ind,\n",
    "        mpu[p].est_g1,\n",
    "        mpu[p].est_g2,\n",
    "        mpu[p].se_g1,\n",
    "        mpu[p].se_g2,\n",
    "        include_cg0=True,\n",
    "        topo=mpu[p].topo,\n",
    "        n_reps=0,\n",
    "        random_state=int(p),\n",
    "    ),\n",
    "    pumas,\n",
    ")\n",
    "pmd_workers.close()"
   ]
  },
  {
   "cell_type": "code",
   "execution_count": 9,
   "id": "a8f692fb",
   "metadata": {
    "ExecuteTime": {
     "end_time": "2023-06-28T19:55:32.782616Z",
     "start_time": "2023-06-28T19:49:38.662953Z"
    },
    "execution": {
     "iopub.execute_input": "2025-03-28T00:44:11.734188Z",
     "iopub.status.busy": "2025-03-28T00:44:11.734112Z",
     "iopub.status.idle": "2025-03-28T00:44:47.230821Z",
     "shell.execute_reply": "2025-03-28T00:44:47.230522Z",
     "shell.execute_reply.started": "2025-03-28T00:44:11.734179Z"
    }
   },
   "outputs": [
    {
     "name": "stdout",
     "output_type": "stream",
     "text": [
      "\n",
      "Completed in 35.4945 seconds.\n"
     ]
    }
   ],
   "source": [
    "start_time = time.time()\n",
    "\n",
    "pmds = batch.batch_solve(mpu)  # without allocation matrix replicates\n",
    "\n",
    "exec_time = np.round(time.time() - start_time, 4)\n",
    "print(f\"\\nCompleted in {exec_time} seconds.\")"
   ]
  },
  {
   "cell_type": "code",
   "execution_count": 10,
   "id": "1149e9f2",
   "metadata": {
    "execution": {
     "iopub.execute_input": "2025-03-28T00:44:47.231330Z",
     "iopub.status.busy": "2025-03-28T00:44:47.231247Z",
     "iopub.status.idle": "2025-03-28T00:44:47.233497Z",
     "shell.execute_reply": "2025-03-28T00:44:47.233267Z",
     "shell.execute_reply.started": "2025-03-28T00:44:47.231322Z"
    }
   },
   "outputs": [
    {
     "data": {
      "text/plain": [
       "{'4701601': <pymedm.pmedm.PMEDM at 0x56da9ddf0>,\n",
       " '4701602': <pymedm.pmedm.PMEDM at 0x31f31b0e0>,\n",
       " '4701603': <pymedm.pmedm.PMEDM at 0x56da9fe00>,\n",
       " '4701604': <pymedm.pmedm.PMEDM at 0x56da9fcb0>}"
      ]
     },
     "execution_count": 10,
     "metadata": {},
     "output_type": "execute_result"
    }
   ],
   "source": [
    "pmds"
   ]
  },
  {
   "cell_type": "markdown",
   "id": "64cd99a6",
   "metadata": {},
   "source": [
    "## Diagnostics"
   ]
  },
  {
   "cell_type": "code",
   "execution_count": 11,
   "id": "19853e6c",
   "metadata": {
    "ExecuteTime": {
     "end_time": "2023-06-28T19:55:32.785426Z",
     "start_time": "2023-06-28T19:55:32.785406Z"
    },
    "execution": {
     "iopub.execute_input": "2025-03-28T00:44:47.233827Z",
     "iopub.status.busy": "2025-03-28T00:44:47.233765Z",
     "iopub.status.idle": "2025-03-28T00:44:59.614951Z",
     "shell.execute_reply": "2025-03-28T00:44:59.614679Z",
     "shell.execute_reply.started": "2025-03-28T00:44:47.233820Z"
    }
   },
   "outputs": [
    {
     "name": "stdout",
     "output_type": "stream",
     "text": [
      "PUMA 4701601\n",
      "\n",
      "MOE Fit Rate: 0.9997\n",
      "ACS Total Population: 107250\n",
      "P-MEDM Total Population: 107030.15776462702\n",
      "\n",
      "ACS Total Housing Units: 49264\n",
      "P-MEDM Total Units: 49289.171198960015\n",
      "\n",
      "\n",
      "PUMA 4701602\n",
      "\n",
      "MOE Fit Rate: 0.9996\n",
      "ACS Total Population: 113236\n",
      "P-MEDM Total Population: 112917.83541040667\n",
      "\n",
      "ACS Total Housing Units: 47525\n",
      "P-MEDM Total Units: 47639.18808323936\n",
      "\n",
      "\n",
      "PUMA 4701603\n",
      "\n",
      "MOE Fit Rate: 0.9992\n",
      "ACS Total Population: 178350\n",
      "P-MEDM Total Population: 177981.19198962985\n",
      "\n",
      "ACS Total Housing Units: 87369\n",
      "P-MEDM Total Units: 87773.65349391381\n",
      "\n",
      "\n",
      "PUMA 4701604\n",
      "\n",
      "MOE Fit Rate: 0.9998\n",
      "ACS Total Population: 157817\n",
      "P-MEDM Total Population: 157381.484036833\n",
      "\n",
      "ACS Total Housing Units: 65814\n",
      "P-MEDM Total Units: 65913.26547377858\n",
      "\n",
      "\n"
     ]
    }
   ],
   "source": [
    "for p in mpu:\n",
    "    print(f\"PUMA {p}\\n\")\n",
    "\n",
    "    mfrs = moe_fit_rate(mpu[p].est_ind, mpu[p].est_g2, mpu[p].se_g2, pmds[p].almat)\n",
    "\n",
    "    print(\"MOE Fit Rate: \" + str(np.round(mfrs[\"moe_fit_rate\"], 4)))\n",
    "\n",
    "    Ycomps = mfrs[\"Ycomp\"]\n",
    "    ycp = Ycomps[Ycomps.variable == \"population\"]\n",
    "    ych = Ycomps[Ycomps.variable == \"housing_units\"]\n",
    "\n",
    "    acs_totalpop = ycp.acs.sum()\n",
    "    pmedm_totalpop = ycp.pmedm.sum()\n",
    "\n",
    "    acs_totalhu = ych.acs.sum()\n",
    "    pmedm_totalhu = ych.pmedm.sum()\n",
    "\n",
    "    print(f\"ACS Total Population: {acs_totalpop}\")\n",
    "    print(f\"P-MEDM Total Population: {pmedm_totalpop}\\n\")\n",
    "    print(f\"ACS Total Housing Units: {acs_totalhu}\")\n",
    "    print(f\"P-MEDM Total Units: {pmedm_totalhu}\\n\\n\")"
   ]
  }
 ],
 "metadata": {
  "kernelspec": {
   "display_name": "Python 3 (ipykernel)",
   "language": "python",
   "name": "python3"
  },
  "language_info": {
   "codemirror_mode": {
    "name": "ipython",
    "version": 3
   },
   "file_extension": ".py",
   "mimetype": "text/x-python",
   "name": "python",
   "nbconvert_exporter": "python",
   "pygments_lexer": "ipython3",
   "version": "3.12.9"
  }
 },
 "nbformat": 4,
 "nbformat_minor": 5
}
