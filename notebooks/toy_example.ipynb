{
 "cells": [
  {
   "cell_type": "markdown",
   "metadata": {},
   "source": [
    "# P-MEDM Toy Example\n",
    "\n",
    "This illustration replicates an example used in Tuccillo and Spielman (2022).\n",
    "\n",
    "* **Joseph V. Tuccillo & Seth E. Spielman** (2022) A Method for Measuring Coupled Individual and Social Vulnerability to Environmental Hazards, *Annals of the American Association of Geographers*, 112:6, 1702-1725, DOI: [10.1080/24694452.2021.1989283](https://www.tandfonline.com/doi/full/10.1080/24694452.2021.1989283)\n",
    "\n",
    "## Setup"
   ]
  },
  {
   "cell_type": "code",
   "execution_count": 1,
   "metadata": {
    "ExecuteTime": {
     "end_time": "2023-03-20T18:28:13.098377Z",
     "start_time": "2023-03-20T18:28:13.081257Z"
    },
    "execution": {
     "iopub.execute_input": "2025-03-28T00:36:57.071942Z",
     "iopub.status.busy": "2025-03-28T00:36:57.071881Z",
     "iopub.status.idle": "2025-03-28T00:36:57.086279Z",
     "shell.execute_reply": "2025-03-28T00:36:57.085982Z",
     "shell.execute_reply.started": "2025-03-28T00:36:57.071933Z"
    }
   },
   "outputs": [
    {
     "name": "stdout",
     "output_type": "stream",
     "text": [
      "Last updated: 2025-03-27T20:36:57.079647-04:00\n",
      "\n",
      "Python implementation: CPython\n",
      "Python version       : 3.12.9\n",
      "IPython version      : 9.0.2\n",
      "\n",
      "Compiler    : Clang 18.1.8 \n",
      "OS          : Darwin\n",
      "Release     : 24.3.0\n",
      "Machine     : arm64\n",
      "Processor   : arm\n",
      "CPU cores   : 16\n",
      "Architecture: 64bit\n",
      "\n"
     ]
    }
   ],
   "source": [
    "%load_ext watermark\n",
    "%watermark"
   ]
  },
  {
   "cell_type": "code",
   "execution_count": 2,
   "metadata": {
    "ExecuteTime": {
     "end_time": "2023-03-20T18:28:13.730930Z",
     "start_time": "2023-03-20T18:28:13.100603Z"
    },
    "execution": {
     "iopub.execute_input": "2025-03-28T00:36:57.087715Z",
     "iopub.status.busy": "2025-03-28T00:36:57.087559Z",
     "iopub.status.idle": "2025-03-28T00:36:57.758895Z",
     "shell.execute_reply": "2025-03-28T00:36:57.758645Z",
     "shell.execute_reply.started": "2025-03-28T00:36:57.087704Z"
    }
   },
   "outputs": [
    {
     "name": "stdout",
     "output_type": "stream",
     "text": [
      "Watermark: 2.5.0\n",
      "\n",
      "pymedm: 2.2.4.dev18+g1a367c4.d20250328\n",
      "numpy : 2.2.4\n",
      "jaxlib: 0.5.3\n",
      "jax   : 0.5.3\n",
      "jaxopt: 0.8.3\n",
      "pandas: 2.2.3\n",
      "scipy : 1.15.2\n",
      "\n"
     ]
    }
   ],
   "source": [
    "import time\n",
    "\n",
    "import jax\n",
    "import jaxlib\n",
    "import jaxopt\n",
    "import numpy as np\n",
    "import pandas as pd\n",
    "import scipy\n",
    "\n",
    "import pymedm\n",
    "from pymedm.diagnostics import moe_fit_rate\n",
    "\n",
    "%watermark -w\n",
    "%watermark -iv"
   ]
  },
  {
   "cell_type": "code",
   "execution_count": 3,
   "metadata": {
    "execution": {
     "iopub.execute_input": "2025-03-28T00:36:57.759461Z",
     "iopub.status.busy": "2025-03-28T00:36:57.759305Z",
     "iopub.status.idle": "2025-03-28T00:36:57.863559Z",
     "shell.execute_reply": "2025-03-28T00:36:57.863335Z",
     "shell.execute_reply.started": "2025-03-28T00:36:57.759452Z"
    }
   },
   "outputs": [
    {
     "data": {
      "text/html": [
       "<div>\n",
       "<style scoped>\n",
       "    .dataframe tbody tr th:only-of-type {\n",
       "        vertical-align: middle;\n",
       "    }\n",
       "\n",
       "    .dataframe tbody tr th {\n",
       "        vertical-align: top;\n",
       "    }\n",
       "\n",
       "    .dataframe thead th {\n",
       "        text-align: right;\n",
       "    }\n",
       "</style>\n",
       "<table border=\"1\" class=\"dataframe\">\n",
       "  <thead>\n",
       "    <tr style=\"text-align: right;\">\n",
       "      <th></th>\n",
       "      <th>device</th>\n",
       "      <th>available</th>\n",
       "      <th>count</th>\n",
       "    </tr>\n",
       "  </thead>\n",
       "  <tbody>\n",
       "    <tr>\n",
       "      <th>0</th>\n",
       "      <td>cpu</td>\n",
       "      <td>yes</td>\n",
       "      <td>1</td>\n",
       "    </tr>\n",
       "    <tr>\n",
       "      <th>1</th>\n",
       "      <td>gpu</td>\n",
       "      <td>no</td>\n",
       "      <td>0</td>\n",
       "    </tr>\n",
       "    <tr>\n",
       "      <th>2</th>\n",
       "      <td>tpu</td>\n",
       "      <td>no</td>\n",
       "      <td>0</td>\n",
       "    </tr>\n",
       "  </tbody>\n",
       "</table>\n",
       "</div>"
      ],
      "text/plain": [
       "  device available  count\n",
       "0    cpu       yes      1\n",
       "1    gpu        no      0\n",
       "2    tpu        no      0"
      ]
     },
     "execution_count": 3,
     "metadata": {},
     "output_type": "execute_result"
    }
   ],
   "source": [
    "pymedm.processor_availability()"
   ]
  },
  {
   "cell_type": "markdown",
   "metadata": {},
   "source": [
    "### Inputs\n",
    "1. Microdata Response IDs (`serial`)\n",
    "2. Microdata sample weights (`wt`)\n",
    "3. Individual-Level constraints from microdata (`cind`)\n",
    "4. Geographic constraints at target scale (census block groups) (`cg2` / `cbg`) and parent scale (census tracts) (`cg1` / `ctrt`)\n",
    "5. Geographic constraint standard errors at target scale (census block groups) (`sg2` / `sbg`) and parent scale (census tracts) (`sg1` / `strt`)\n"
   ]
  },
  {
   "cell_type": "markdown",
   "metadata": {},
   "source": [
    "Load the individual constraints:"
   ]
  },
  {
   "cell_type": "code",
   "execution_count": 4,
   "metadata": {
    "ExecuteTime": {
     "end_time": "2023-03-20T18:28:13.802194Z",
     "start_time": "2023-03-20T18:28:13.764406Z"
    },
    "execution": {
     "iopub.execute_input": "2025-03-28T00:36:57.863984Z",
     "iopub.status.busy": "2025-03-28T00:36:57.863907Z",
     "iopub.status.idle": "2025-03-28T00:36:57.867930Z",
     "shell.execute_reply": "2025-03-28T00:36:57.867739Z",
     "shell.execute_reply.started": "2025-03-28T00:36:57.863977Z"
    }
   },
   "outputs": [
    {
     "data": {
      "text/html": [
       "<div>\n",
       "<style scoped>\n",
       "    .dataframe tbody tr th:only-of-type {\n",
       "        vertical-align: middle;\n",
       "    }\n",
       "\n",
       "    .dataframe tbody tr th {\n",
       "        vertical-align: top;\n",
       "    }\n",
       "\n",
       "    .dataframe thead th {\n",
       "        text-align: right;\n",
       "    }\n",
       "</style>\n",
       "<table border=\"1\" class=\"dataframe\">\n",
       "  <thead>\n",
       "    <tr style=\"text-align: right;\">\n",
       "      <th></th>\n",
       "      <th>SERIAL</th>\n",
       "      <th>PERWT</th>\n",
       "      <th>POP</th>\n",
       "      <th>CONST1</th>\n",
       "      <th>CONST2</th>\n",
       "      <th>CONST3</th>\n",
       "      <th>CONST4</th>\n",
       "      <th>CONST5</th>\n",
       "      <th>CONST6</th>\n",
       "    </tr>\n",
       "  </thead>\n",
       "  <tbody>\n",
       "    <tr>\n",
       "      <th>0</th>\n",
       "      <td>A</td>\n",
       "      <td>50</td>\n",
       "      <td>1</td>\n",
       "      <td>1</td>\n",
       "      <td>1</td>\n",
       "      <td>1</td>\n",
       "      <td>0</td>\n",
       "      <td>1</td>\n",
       "      <td>0</td>\n",
       "    </tr>\n",
       "    <tr>\n",
       "      <th>1</th>\n",
       "      <td>B</td>\n",
       "      <td>20</td>\n",
       "      <td>1</td>\n",
       "      <td>0</td>\n",
       "      <td>0</td>\n",
       "      <td>0</td>\n",
       "      <td>0</td>\n",
       "      <td>1</td>\n",
       "      <td>1</td>\n",
       "    </tr>\n",
       "    <tr>\n",
       "      <th>2</th>\n",
       "      <td>C</td>\n",
       "      <td>10</td>\n",
       "      <td>1</td>\n",
       "      <td>1</td>\n",
       "      <td>1</td>\n",
       "      <td>0</td>\n",
       "      <td>1</td>\n",
       "      <td>1</td>\n",
       "      <td>1</td>\n",
       "    </tr>\n",
       "    <tr>\n",
       "      <th>3</th>\n",
       "      <td>D</td>\n",
       "      <td>5</td>\n",
       "      <td>1</td>\n",
       "      <td>1</td>\n",
       "      <td>0</td>\n",
       "      <td>0</td>\n",
       "      <td>0</td>\n",
       "      <td>0</td>\n",
       "      <td>0</td>\n",
       "    </tr>\n",
       "    <tr>\n",
       "      <th>4</th>\n",
       "      <td>E</td>\n",
       "      <td>15</td>\n",
       "      <td>1</td>\n",
       "      <td>0</td>\n",
       "      <td>1</td>\n",
       "      <td>1</td>\n",
       "      <td>0</td>\n",
       "      <td>0</td>\n",
       "      <td>0</td>\n",
       "    </tr>\n",
       "  </tbody>\n",
       "</table>\n",
       "</div>"
      ],
      "text/plain": [
       "  SERIAL  PERWT  POP  CONST1  CONST2  CONST3  CONST4  CONST5  CONST6\n",
       "0      A     50    1       1       1       1       0       1       0\n",
       "1      B     20    1       0       0       0       0       1       1\n",
       "2      C     10    1       1       1       0       1       1       1\n",
       "3      D      5    1       1       0       0       0       0       0\n",
       "4      E     15    1       0       1       1       0       0       0"
      ]
     },
     "execution_count": 4,
     "metadata": {},
     "output_type": "execute_result"
    }
   ],
   "source": [
    "cind = pd.read_csv(\"../data/toy_constraints_ind.csv\")\n",
    "cind.head()"
   ]
  },
  {
   "cell_type": "markdown",
   "metadata": {},
   "source": [
    "Assign the response IDs and sample weights to variables:"
   ]
  },
  {
   "cell_type": "code",
   "execution_count": 5,
   "metadata": {
    "ExecuteTime": {
     "end_time": "2023-03-20T18:28:13.827738Z",
     "start_time": "2023-03-20T18:28:13.803734Z"
    },
    "execution": {
     "iopub.execute_input": "2025-03-28T00:36:57.868369Z",
     "iopub.status.busy": "2025-03-28T00:36:57.868290Z",
     "iopub.status.idle": "2025-03-28T00:36:57.869781Z",
     "shell.execute_reply": "2025-03-28T00:36:57.869592Z",
     "shell.execute_reply.started": "2025-03-28T00:36:57.868362Z"
    }
   },
   "outputs": [],
   "source": [
    "## response IDs\n",
    "serial = cind.SERIAL.values"
   ]
  },
  {
   "cell_type": "code",
   "execution_count": 6,
   "metadata": {
    "ExecuteTime": {
     "end_time": "2023-03-20T18:28:13.905253Z",
     "start_time": "2023-03-20T18:28:13.829213Z"
    },
    "execution": {
     "iopub.execute_input": "2025-03-28T00:36:57.870237Z",
     "iopub.status.busy": "2025-03-28T00:36:57.870145Z",
     "iopub.status.idle": "2025-03-28T00:36:57.871527Z",
     "shell.execute_reply": "2025-03-28T00:36:57.871332Z",
     "shell.execute_reply.started": "2025-03-28T00:36:57.870231Z"
    }
   },
   "outputs": [],
   "source": [
    "## sample weights\n",
    "wt = cind.PERWT.values"
   ]
  },
  {
   "cell_type": "markdown",
   "metadata": {},
   "source": [
    "Drop response IDs and sample weights from individual-level constraints:"
   ]
  },
  {
   "cell_type": "code",
   "execution_count": 7,
   "metadata": {
    "ExecuteTime": {
     "end_time": "2023-03-20T18:28:13.924399Z",
     "start_time": "2023-03-20T18:28:13.906785Z"
    },
    "execution": {
     "iopub.execute_input": "2025-03-28T00:36:57.871974Z",
     "iopub.status.busy": "2025-03-28T00:36:57.871874Z",
     "iopub.status.idle": "2025-03-28T00:36:57.873556Z",
     "shell.execute_reply": "2025-03-28T00:36:57.873323Z",
     "shell.execute_reply.started": "2025-03-28T00:36:57.871968Z"
    }
   },
   "outputs": [],
   "source": [
    "cind = cind.drop([\"SERIAL\", \"PERWT\"], axis=1)"
   ]
  },
  {
   "cell_type": "markdown",
   "metadata": {},
   "source": [
    "Next, load the geographic constraints. For this example, we will only load the target-level (block group) constraints and aggregate them to the parent level (tract) manually. With ACS data, it is more common to fetch and load these constraints separately. However, this approach can still be useful for dealing with nonstandard parent geographies (i.e., aggregating block groups to statistical neighborhoods in a city)."
   ]
  },
  {
   "cell_type": "code",
   "execution_count": 8,
   "metadata": {
    "ExecuteTime": {
     "end_time": "2023-03-20T18:28:13.955036Z",
     "start_time": "2023-03-20T18:28:13.925910Z"
    },
    "execution": {
     "iopub.execute_input": "2025-03-28T00:36:57.875455Z",
     "iopub.status.busy": "2025-03-28T00:36:57.875359Z",
     "iopub.status.idle": "2025-03-28T00:36:57.878207Z",
     "shell.execute_reply": "2025-03-28T00:36:57.877976Z",
     "shell.execute_reply.started": "2025-03-28T00:36:57.875447Z"
    }
   },
   "outputs": [],
   "source": [
    "# Geographic constraints\n",
    "cbg0 = pd.read_csv(\"../data/toy_constraints_bg.csv\")\n",
    "cbg0.index = cbg0.GEOID.values"
   ]
  },
  {
   "cell_type": "code",
   "execution_count": 9,
   "metadata": {
    "ExecuteTime": {
     "end_time": "2023-03-20T18:28:13.989115Z",
     "start_time": "2023-03-20T18:28:13.957921Z"
    },
    "execution": {
     "iopub.execute_input": "2025-03-28T00:36:57.878624Z",
     "iopub.status.busy": "2025-03-28T00:36:57.878552Z",
     "iopub.status.idle": "2025-03-28T00:36:57.880823Z",
     "shell.execute_reply": "2025-03-28T00:36:57.880578Z",
     "shell.execute_reply.started": "2025-03-28T00:36:57.878616Z"
    }
   },
   "outputs": [],
   "source": [
    "# separate ests and standard errors\n",
    "se_cols = cbg0.columns[np.where([k.endswith(\"s\") for k in cbg0.columns])]\n",
    "est_cols = cbg0.columns[\n",
    "    np.where([(k not in se_cols) & (k != \"GEOID\") for k in cbg0.columns])\n",
    "]\n",
    "\n",
    "cbg = cbg0[est_cols]\n",
    "sbg = cbg0[se_cols]"
   ]
  },
  {
   "cell_type": "code",
   "execution_count": 10,
   "metadata": {
    "ExecuteTime": {
     "end_time": "2023-03-20T18:28:14.017865Z",
     "start_time": "2023-03-20T18:28:13.990562Z"
    },
    "execution": {
     "iopub.execute_input": "2025-03-28T00:36:57.881324Z",
     "iopub.status.busy": "2025-03-28T00:36:57.881249Z",
     "iopub.status.idle": "2025-03-28T00:36:57.883863Z",
     "shell.execute_reply": "2025-03-28T00:36:57.883603Z",
     "shell.execute_reply.started": "2025-03-28T00:36:57.881317Z"
    }
   },
   "outputs": [],
   "source": [
    "## Tract constraints\n",
    "ctrt0 = cbg0.copy()\n",
    "\n",
    "ctrt0.index = [str(i)[0] for i in ctrt0.GEOID.values]\n",
    "\n",
    "ctrt0 = ctrt0.drop(\"GEOID\", axis=1)"
   ]
  },
  {
   "cell_type": "code",
   "execution_count": 11,
   "metadata": {
    "ExecuteTime": {
     "end_time": "2023-03-20T18:28:14.036858Z",
     "start_time": "2023-03-20T18:28:14.019497Z"
    },
    "execution": {
     "iopub.execute_input": "2025-03-28T00:36:57.884286Z",
     "iopub.status.busy": "2025-03-28T00:36:57.884208Z",
     "iopub.status.idle": "2025-03-28T00:36:57.886012Z",
     "shell.execute_reply": "2025-03-28T00:36:57.885807Z",
     "shell.execute_reply.started": "2025-03-28T00:36:57.884279Z"
    }
   },
   "outputs": [],
   "source": [
    "# separate ests and standard errors\n",
    "ctrt = ctrt0[est_cols]\n",
    "strt = ctrt0[se_cols]"
   ]
  },
  {
   "cell_type": "code",
   "execution_count": 12,
   "metadata": {
    "ExecuteTime": {
     "end_time": "2023-03-20T18:28:14.062038Z",
     "start_time": "2023-03-20T18:28:14.038143Z"
    },
    "execution": {
     "iopub.execute_input": "2025-03-28T00:36:57.886402Z",
     "iopub.status.busy": "2025-03-28T00:36:57.886332Z",
     "iopub.status.idle": "2025-03-28T00:36:57.888482Z",
     "shell.execute_reply": "2025-03-28T00:36:57.888273Z",
     "shell.execute_reply.started": "2025-03-28T00:36:57.886395Z"
    }
   },
   "outputs": [],
   "source": [
    "# aggregate ests\n",
    "ctrt = ctrt.groupby(ctrt.index).aggregate(\"sum\")"
   ]
  },
  {
   "cell_type": "code",
   "execution_count": 13,
   "metadata": {
    "ExecuteTime": {
     "end_time": "2023-03-20T18:28:14.113417Z",
     "start_time": "2023-03-20T18:28:14.063547Z"
    },
    "execution": {
     "iopub.execute_input": "2025-03-28T00:36:57.888882Z",
     "iopub.status.busy": "2025-03-28T00:36:57.888803Z",
     "iopub.status.idle": "2025-03-28T00:36:57.892970Z",
     "shell.execute_reply": "2025-03-28T00:36:57.892744Z",
     "shell.execute_reply.started": "2025-03-28T00:36:57.888875Z"
    }
   },
   "outputs": [],
   "source": [
    "# aggregate SE's\n",
    "strt = strt.groupby(strt.index).aggregate(lambda x: np.sqrt(np.sum(np.square(x))))"
   ]
  },
  {
   "cell_type": "markdown",
   "metadata": {},
   "source": [
    "The final inputs look like:"
   ]
  },
  {
   "cell_type": "code",
   "execution_count": 14,
   "metadata": {
    "ExecuteTime": {
     "end_time": "2023-03-20T18:28:14.142026Z",
     "start_time": "2023-03-20T18:28:14.115254Z"
    },
    "execution": {
     "iopub.execute_input": "2025-03-28T00:36:57.893425Z",
     "iopub.status.busy": "2025-03-28T00:36:57.893320Z",
     "iopub.status.idle": "2025-03-28T00:36:57.896145Z",
     "shell.execute_reply": "2025-03-28T00:36:57.895885Z",
     "shell.execute_reply.started": "2025-03-28T00:36:57.893418Z"
    }
   },
   "outputs": [
    {
     "data": {
      "text/html": [
       "<div>\n",
       "<style scoped>\n",
       "    .dataframe tbody tr th:only-of-type {\n",
       "        vertical-align: middle;\n",
       "    }\n",
       "\n",
       "    .dataframe tbody tr th {\n",
       "        vertical-align: top;\n",
       "    }\n",
       "\n",
       "    .dataframe thead th {\n",
       "        text-align: right;\n",
       "    }\n",
       "</style>\n",
       "<table border=\"1\" class=\"dataframe\">\n",
       "  <thead>\n",
       "    <tr style=\"text-align: right;\">\n",
       "      <th></th>\n",
       "      <th>POP</th>\n",
       "      <th>CONST1</th>\n",
       "      <th>CONST2</th>\n",
       "      <th>CONST3</th>\n",
       "      <th>CONST4</th>\n",
       "      <th>CONST5</th>\n",
       "      <th>CONST6</th>\n",
       "    </tr>\n",
       "  </thead>\n",
       "  <tbody>\n",
       "    <tr>\n",
       "      <th>0</th>\n",
       "      <td>1</td>\n",
       "      <td>1</td>\n",
       "      <td>1</td>\n",
       "      <td>1</td>\n",
       "      <td>0</td>\n",
       "      <td>1</td>\n",
       "      <td>0</td>\n",
       "    </tr>\n",
       "    <tr>\n",
       "      <th>1</th>\n",
       "      <td>1</td>\n",
       "      <td>0</td>\n",
       "      <td>0</td>\n",
       "      <td>0</td>\n",
       "      <td>0</td>\n",
       "      <td>1</td>\n",
       "      <td>1</td>\n",
       "    </tr>\n",
       "    <tr>\n",
       "      <th>2</th>\n",
       "      <td>1</td>\n",
       "      <td>1</td>\n",
       "      <td>1</td>\n",
       "      <td>0</td>\n",
       "      <td>1</td>\n",
       "      <td>1</td>\n",
       "      <td>1</td>\n",
       "    </tr>\n",
       "    <tr>\n",
       "      <th>3</th>\n",
       "      <td>1</td>\n",
       "      <td>1</td>\n",
       "      <td>0</td>\n",
       "      <td>0</td>\n",
       "      <td>0</td>\n",
       "      <td>0</td>\n",
       "      <td>0</td>\n",
       "    </tr>\n",
       "    <tr>\n",
       "      <th>4</th>\n",
       "      <td>1</td>\n",
       "      <td>0</td>\n",
       "      <td>1</td>\n",
       "      <td>1</td>\n",
       "      <td>0</td>\n",
       "      <td>0</td>\n",
       "      <td>0</td>\n",
       "    </tr>\n",
       "  </tbody>\n",
       "</table>\n",
       "</div>"
      ],
      "text/plain": [
       "   POP  CONST1  CONST2  CONST3  CONST4  CONST5  CONST6\n",
       "0    1       1       1       1       0       1       0\n",
       "1    1       0       0       0       0       1       1\n",
       "2    1       1       1       0       1       1       1\n",
       "3    1       1       0       0       0       0       0\n",
       "4    1       0       1       1       0       0       0"
      ]
     },
     "execution_count": 14,
     "metadata": {},
     "output_type": "execute_result"
    }
   ],
   "source": [
    "# Individual Constraints\n",
    "cind"
   ]
  },
  {
   "cell_type": "code",
   "execution_count": 15,
   "metadata": {
    "ExecuteTime": {
     "end_time": "2023-03-20T18:28:14.165753Z",
     "start_time": "2023-03-20T18:28:14.143529Z"
    },
    "execution": {
     "iopub.execute_input": "2025-03-28T00:36:57.896575Z",
     "iopub.status.busy": "2025-03-28T00:36:57.896500Z",
     "iopub.status.idle": "2025-03-28T00:36:57.899461Z",
     "shell.execute_reply": "2025-03-28T00:36:57.899229Z",
     "shell.execute_reply.started": "2025-03-28T00:36:57.896568Z"
    }
   },
   "outputs": [
    {
     "data": {
      "text/html": [
       "<div>\n",
       "<style scoped>\n",
       "    .dataframe tbody tr th:only-of-type {\n",
       "        vertical-align: middle;\n",
       "    }\n",
       "\n",
       "    .dataframe tbody tr th {\n",
       "        vertical-align: top;\n",
       "    }\n",
       "\n",
       "    .dataframe thead th {\n",
       "        text-align: right;\n",
       "    }\n",
       "</style>\n",
       "<table border=\"1\" class=\"dataframe\">\n",
       "  <thead>\n",
       "    <tr style=\"text-align: right;\">\n",
       "      <th></th>\n",
       "      <th>POP</th>\n",
       "      <th>CONST1</th>\n",
       "      <th>CONST2</th>\n",
       "      <th>CONST3</th>\n",
       "      <th>CONST4</th>\n",
       "      <th>CONST5</th>\n",
       "      <th>CONST6</th>\n",
       "    </tr>\n",
       "  </thead>\n",
       "  <tbody>\n",
       "    <tr>\n",
       "      <th>10</th>\n",
       "      <td>28</td>\n",
       "      <td>15</td>\n",
       "      <td>25</td>\n",
       "      <td>15</td>\n",
       "      <td>3</td>\n",
       "      <td>16</td>\n",
       "      <td>5</td>\n",
       "    </tr>\n",
       "    <tr>\n",
       "      <th>11</th>\n",
       "      <td>20</td>\n",
       "      <td>13</td>\n",
       "      <td>13</td>\n",
       "      <td>12</td>\n",
       "      <td>2</td>\n",
       "      <td>17</td>\n",
       "      <td>8</td>\n",
       "    </tr>\n",
       "    <tr>\n",
       "      <th>20</th>\n",
       "      <td>30</td>\n",
       "      <td>18</td>\n",
       "      <td>22</td>\n",
       "      <td>20</td>\n",
       "      <td>3</td>\n",
       "      <td>27</td>\n",
       "      <td>7</td>\n",
       "    </tr>\n",
       "    <tr>\n",
       "      <th>21</th>\n",
       "      <td>22</td>\n",
       "      <td>19</td>\n",
       "      <td>15</td>\n",
       "      <td>18</td>\n",
       "      <td>2</td>\n",
       "      <td>20</td>\n",
       "      <td>10</td>\n",
       "    </tr>\n",
       "  </tbody>\n",
       "</table>\n",
       "</div>"
      ],
      "text/plain": [
       "    POP  CONST1  CONST2  CONST3  CONST4  CONST5  CONST6\n",
       "10   28      15      25      15       3      16       5\n",
       "11   20      13      13      12       2      17       8\n",
       "20   30      18      22      20       3      27       7\n",
       "21   22      19      15      18       2      20      10"
      ]
     },
     "execution_count": 15,
     "metadata": {},
     "output_type": "execute_result"
    }
   ],
   "source": [
    "# Geographic constraints (target scale)\n",
    "cbg"
   ]
  },
  {
   "cell_type": "code",
   "execution_count": 16,
   "metadata": {
    "ExecuteTime": {
     "end_time": "2023-03-20T18:28:14.179645Z",
     "start_time": "2023-03-20T18:28:14.167319Z"
    },
    "execution": {
     "iopub.execute_input": "2025-03-28T00:36:57.899836Z",
     "iopub.status.busy": "2025-03-28T00:36:57.899752Z",
     "iopub.status.idle": "2025-03-28T00:36:57.903295Z",
     "shell.execute_reply": "2025-03-28T00:36:57.903070Z",
     "shell.execute_reply.started": "2025-03-28T00:36:57.899827Z"
    }
   },
   "outputs": [
    {
     "data": {
      "text/html": [
       "<div>\n",
       "<style scoped>\n",
       "    .dataframe tbody tr th:only-of-type {\n",
       "        vertical-align: middle;\n",
       "    }\n",
       "\n",
       "    .dataframe tbody tr th {\n",
       "        vertical-align: top;\n",
       "    }\n",
       "\n",
       "    .dataframe thead th {\n",
       "        text-align: right;\n",
       "    }\n",
       "</style>\n",
       "<table border=\"1\" class=\"dataframe\">\n",
       "  <thead>\n",
       "    <tr style=\"text-align: right;\">\n",
       "      <th></th>\n",
       "      <th>POPs</th>\n",
       "      <th>CONST1s</th>\n",
       "      <th>CONST2s</th>\n",
       "      <th>CONST3s</th>\n",
       "      <th>CONST4s</th>\n",
       "      <th>CONST5s</th>\n",
       "      <th>CONST6s</th>\n",
       "    </tr>\n",
       "  </thead>\n",
       "  <tbody>\n",
       "    <tr>\n",
       "      <th>10</th>\n",
       "      <td>2</td>\n",
       "      <td>1.75</td>\n",
       "      <td>2.25</td>\n",
       "      <td>3</td>\n",
       "      <td>0.5</td>\n",
       "      <td>2.75</td>\n",
       "      <td>1</td>\n",
       "    </tr>\n",
       "    <tr>\n",
       "      <th>11</th>\n",
       "      <td>2</td>\n",
       "      <td>1.50</td>\n",
       "      <td>2.25</td>\n",
       "      <td>2</td>\n",
       "      <td>0.5</td>\n",
       "      <td>2.75</td>\n",
       "      <td>1</td>\n",
       "    </tr>\n",
       "    <tr>\n",
       "      <th>20</th>\n",
       "      <td>2</td>\n",
       "      <td>1.75</td>\n",
       "      <td>2.25</td>\n",
       "      <td>2</td>\n",
       "      <td>0.5</td>\n",
       "      <td>2.75</td>\n",
       "      <td>1</td>\n",
       "    </tr>\n",
       "    <tr>\n",
       "      <th>21</th>\n",
       "      <td>2</td>\n",
       "      <td>1.75</td>\n",
       "      <td>2.25</td>\n",
       "      <td>2</td>\n",
       "      <td>0.5</td>\n",
       "      <td>2.75</td>\n",
       "      <td>1</td>\n",
       "    </tr>\n",
       "  </tbody>\n",
       "</table>\n",
       "</div>"
      ],
      "text/plain": [
       "    POPs  CONST1s  CONST2s  CONST3s  CONST4s  CONST5s  CONST6s\n",
       "10     2     1.75     2.25        3      0.5     2.75        1\n",
       "11     2     1.50     2.25        2      0.5     2.75        1\n",
       "20     2     1.75     2.25        2      0.5     2.75        1\n",
       "21     2     1.75     2.25        2      0.5     2.75        1"
      ]
     },
     "execution_count": 16,
     "metadata": {},
     "output_type": "execute_result"
    }
   ],
   "source": [
    "# Geographic constraint standard errors (target scale)\n",
    "sbg"
   ]
  },
  {
   "cell_type": "code",
   "execution_count": 17,
   "metadata": {
    "ExecuteTime": {
     "end_time": "2023-03-20T18:28:14.220835Z",
     "start_time": "2023-03-20T18:28:14.181246Z"
    },
    "execution": {
     "iopub.execute_input": "2025-03-28T00:36:57.903751Z",
     "iopub.status.busy": "2025-03-28T00:36:57.903656Z",
     "iopub.status.idle": "2025-03-28T00:36:57.906617Z",
     "shell.execute_reply": "2025-03-28T00:36:57.906380Z",
     "shell.execute_reply.started": "2025-03-28T00:36:57.903743Z"
    }
   },
   "outputs": [
    {
     "data": {
      "text/html": [
       "<div>\n",
       "<style scoped>\n",
       "    .dataframe tbody tr th:only-of-type {\n",
       "        vertical-align: middle;\n",
       "    }\n",
       "\n",
       "    .dataframe tbody tr th {\n",
       "        vertical-align: top;\n",
       "    }\n",
       "\n",
       "    .dataframe thead th {\n",
       "        text-align: right;\n",
       "    }\n",
       "</style>\n",
       "<table border=\"1\" class=\"dataframe\">\n",
       "  <thead>\n",
       "    <tr style=\"text-align: right;\">\n",
       "      <th></th>\n",
       "      <th>POP</th>\n",
       "      <th>CONST1</th>\n",
       "      <th>CONST2</th>\n",
       "      <th>CONST3</th>\n",
       "      <th>CONST4</th>\n",
       "      <th>CONST5</th>\n",
       "      <th>CONST6</th>\n",
       "    </tr>\n",
       "  </thead>\n",
       "  <tbody>\n",
       "    <tr>\n",
       "      <th>1</th>\n",
       "      <td>48</td>\n",
       "      <td>28</td>\n",
       "      <td>38</td>\n",
       "      <td>27</td>\n",
       "      <td>5</td>\n",
       "      <td>33</td>\n",
       "      <td>13</td>\n",
       "    </tr>\n",
       "    <tr>\n",
       "      <th>2</th>\n",
       "      <td>52</td>\n",
       "      <td>37</td>\n",
       "      <td>37</td>\n",
       "      <td>38</td>\n",
       "      <td>5</td>\n",
       "      <td>47</td>\n",
       "      <td>17</td>\n",
       "    </tr>\n",
       "  </tbody>\n",
       "</table>\n",
       "</div>"
      ],
      "text/plain": [
       "   POP  CONST1  CONST2  CONST3  CONST4  CONST5  CONST6\n",
       "1   48      28      38      27       5      33      13\n",
       "2   52      37      37      38       5      47      17"
      ]
     },
     "execution_count": 17,
     "metadata": {},
     "output_type": "execute_result"
    }
   ],
   "source": [
    "# Geographic constraints (parent scale)\n",
    "ctrt"
   ]
  },
  {
   "cell_type": "code",
   "execution_count": 18,
   "metadata": {
    "ExecuteTime": {
     "end_time": "2023-03-20T18:28:14.241257Z",
     "start_time": "2023-03-20T18:28:14.222451Z"
    },
    "execution": {
     "iopub.execute_input": "2025-03-28T00:36:57.907085Z",
     "iopub.status.busy": "2025-03-28T00:36:57.906978Z",
     "iopub.status.idle": "2025-03-28T00:36:57.910250Z",
     "shell.execute_reply": "2025-03-28T00:36:57.910019Z",
     "shell.execute_reply.started": "2025-03-28T00:36:57.907076Z"
    }
   },
   "outputs": [
    {
     "data": {
      "text/html": [
       "<div>\n",
       "<style scoped>\n",
       "    .dataframe tbody tr th:only-of-type {\n",
       "        vertical-align: middle;\n",
       "    }\n",
       "\n",
       "    .dataframe tbody tr th {\n",
       "        vertical-align: top;\n",
       "    }\n",
       "\n",
       "    .dataframe thead th {\n",
       "        text-align: right;\n",
       "    }\n",
       "</style>\n",
       "<table border=\"1\" class=\"dataframe\">\n",
       "  <thead>\n",
       "    <tr style=\"text-align: right;\">\n",
       "      <th></th>\n",
       "      <th>POPs</th>\n",
       "      <th>CONST1s</th>\n",
       "      <th>CONST2s</th>\n",
       "      <th>CONST3s</th>\n",
       "      <th>CONST4s</th>\n",
       "      <th>CONST5s</th>\n",
       "      <th>CONST6s</th>\n",
       "    </tr>\n",
       "  </thead>\n",
       "  <tbody>\n",
       "    <tr>\n",
       "      <th>1</th>\n",
       "      <td>2.828427</td>\n",
       "      <td>2.304886</td>\n",
       "      <td>3.181981</td>\n",
       "      <td>3.605551</td>\n",
       "      <td>0.707107</td>\n",
       "      <td>3.889087</td>\n",
       "      <td>1.414214</td>\n",
       "    </tr>\n",
       "    <tr>\n",
       "      <th>2</th>\n",
       "      <td>2.828427</td>\n",
       "      <td>2.474874</td>\n",
       "      <td>3.181981</td>\n",
       "      <td>2.828427</td>\n",
       "      <td>0.707107</td>\n",
       "      <td>3.889087</td>\n",
       "      <td>1.414214</td>\n",
       "    </tr>\n",
       "  </tbody>\n",
       "</table>\n",
       "</div>"
      ],
      "text/plain": [
       "       POPs   CONST1s   CONST2s   CONST3s   CONST4s   CONST5s   CONST6s\n",
       "1  2.828427  2.304886  3.181981  3.605551  0.707107  3.889087  1.414214\n",
       "2  2.828427  2.474874  3.181981  2.828427  0.707107  3.889087  1.414214"
      ]
     },
     "execution_count": 18,
     "metadata": {},
     "output_type": "execute_result"
    }
   ],
   "source": [
    "# Geographic constraint standard errors (parent scale)\n",
    "strt"
   ]
  },
  {
   "cell_type": "markdown",
   "metadata": {},
   "source": [
    "## Population Synthesis\n",
    "\n",
    "<div class=\"alert alert-block alert-warning\">\n",
    "<b>Usage:</b>\n",
    "    <br>• Setting 'n_reps >= 1' triggers the replicate generation workflow, which runs 'compute_hessian_matrix()'.\n",
    "    <br>• The Hessian Matrix functionality within that function is highly experimental and not mature.\n",
    "    <br>• Use with caution.\n",
    "    <br>• Results are not guaranteed.\n",
    "</div>"
   ]
  },
  {
   "cell_type": "code",
   "execution_count": 19,
   "metadata": {
    "ExecuteTime": {
     "end_time": "2023-03-20T18:28:15.043220Z",
     "start_time": "2023-03-20T18:28:14.242757Z"
    },
    "execution": {
     "iopub.execute_input": "2025-03-28T00:36:57.910720Z",
     "iopub.status.busy": "2025-03-28T00:36:57.910612Z",
     "iopub.status.idle": "2025-03-28T00:36:58.193069Z",
     "shell.execute_reply": "2025-03-28T00:36:58.192744Z",
     "shell.execute_reply.started": "2025-03-28T00:36:57.910713Z"
    }
   },
   "outputs": [],
   "source": [
    "## Create P-MEDM object\n",
    "pmd = pymedm.PMEDM(\n",
    "    2019,\n",
    "    serial,\n",
    "    wt,\n",
    "    cind,\n",
    "    ctrt,\n",
    "    cbg,\n",
    "    strt,\n",
    "    sbg,\n",
    "    include_cg0=False,\n",
    "    n_reps=1000,\n",
    "    verbose=True,\n",
    ")"
   ]
  },
  {
   "cell_type": "code",
   "execution_count": 20,
   "metadata": {
    "ExecuteTime": {
     "end_time": "2023-03-20T18:28:26.373718Z",
     "start_time": "2023-03-20T18:28:15.045084Z"
    },
    "execution": {
     "iopub.execute_input": "2025-03-28T00:36:58.193642Z",
     "iopub.status.busy": "2025-03-28T00:36:58.193548Z",
     "iopub.status.idle": "2025-03-28T00:36:59.497610Z",
     "shell.execute_reply": "2025-03-28T00:36:59.497358Z",
     "shell.execute_reply.started": "2025-03-28T00:36:58.193634Z"
    }
   },
   "outputs": [
    {
     "name": "stdout",
     "output_type": "stream",
     "text": [
      "Initializing P-MEDM solver...\n",
      "P-MEDM completed in 0.8606 seconds.\n",
      "\n",
      "Generating 1000 replicates of the allocation matrix. The Hessian Matrix functionality here is highly experimental and not mature. Use with caution.\n",
      "\n",
      "Replicates generated in 0.3345 seconds.\n",
      "\n",
      "Completed in 1.3022 seconds.\n"
     ]
    }
   ],
   "source": [
    "## Run P-MEDM solver\n",
    "start_time = time.time()\n",
    "# pmd = solve(pmd)\n",
    "pmd.solve()\n",
    "exec_time = np.round(time.time() - start_time, 4)\n",
    "print(f\"\\nCompleted in {exec_time} seconds.\")"
   ]
  },
  {
   "cell_type": "markdown",
   "metadata": {},
   "source": [
    "### Goodness of Fit\n",
    "\n",
    "To assess P-MEDM goodness of fit, we reconstruct the target (block group) geographic constraints from the synthetic population estimate (`pmd.almat`), compute errors, and compare the errors to the published 90% margins of error (MOE)."
   ]
  },
  {
   "cell_type": "code",
   "execution_count": 21,
   "metadata": {
    "ExecuteTime": {
     "end_time": "2023-03-20T18:28:26.404501Z",
     "start_time": "2023-03-20T18:28:26.375588Z"
    },
    "execution": {
     "iopub.execute_input": "2025-03-28T00:36:59.498089Z",
     "iopub.status.busy": "2025-03-28T00:36:59.498016Z",
     "iopub.status.idle": "2025-03-28T00:36:59.529358Z",
     "shell.execute_reply": "2025-03-28T00:36:59.529041Z",
     "shell.execute_reply.started": "2025-03-28T00:36:59.498082Z"
    }
   },
   "outputs": [],
   "source": [
    "# synthetic constraints\n",
    "Yhat = cind.apply(lambda x: np.sum(x.values[:, None] * pmd.almat, axis=0))"
   ]
  },
  {
   "cell_type": "code",
   "execution_count": 22,
   "metadata": {
    "ExecuteTime": {
     "end_time": "2023-03-20T18:28:26.422027Z",
     "start_time": "2023-03-20T18:28:26.406652Z"
    },
    "execution": {
     "iopub.execute_input": "2025-03-28T00:36:59.529786Z",
     "iopub.status.busy": "2025-03-28T00:36:59.529698Z",
     "iopub.status.idle": "2025-03-28T00:36:59.533503Z",
     "shell.execute_reply": "2025-03-28T00:36:59.533275Z",
     "shell.execute_reply.started": "2025-03-28T00:36:59.529778Z"
    }
   },
   "outputs": [
    {
     "data": {
      "text/html": [
       "<div>\n",
       "<style scoped>\n",
       "    .dataframe tbody tr th:only-of-type {\n",
       "        vertical-align: middle;\n",
       "    }\n",
       "\n",
       "    .dataframe tbody tr th {\n",
       "        vertical-align: top;\n",
       "    }\n",
       "\n",
       "    .dataframe thead th {\n",
       "        text-align: right;\n",
       "    }\n",
       "</style>\n",
       "<table border=\"1\" class=\"dataframe\">\n",
       "  <thead>\n",
       "    <tr style=\"text-align: right;\">\n",
       "      <th></th>\n",
       "      <th>POP</th>\n",
       "      <th>CONST1</th>\n",
       "      <th>CONST2</th>\n",
       "      <th>CONST3</th>\n",
       "      <th>CONST4</th>\n",
       "      <th>CONST5</th>\n",
       "      <th>CONST6</th>\n",
       "    </tr>\n",
       "  </thead>\n",
       "  <tbody>\n",
       "    <tr>\n",
       "      <th>0</th>\n",
       "      <td>27.184431</td>\n",
       "      <td>15.401242</td>\n",
       "      <td>22.672207</td>\n",
       "      <td>19.602919</td>\n",
       "      <td>3.069288</td>\n",
       "      <td>15.321910</td>\n",
       "      <td>5.285734</td>\n",
       "    </tr>\n",
       "    <tr>\n",
       "      <th>1</th>\n",
       "      <td>20.248196</td>\n",
       "      <td>12.773735</td>\n",
       "      <td>13.283777</td>\n",
       "      <td>11.268251</td>\n",
       "      <td>2.015525</td>\n",
       "      <td>17.428706</td>\n",
       "      <td>7.825221</td>\n",
       "    </tr>\n",
       "    <tr>\n",
       "      <th>2</th>\n",
       "      <td>28.351053</td>\n",
       "      <td>19.311262</td>\n",
       "      <td>23.197472</td>\n",
       "      <td>20.366536</td>\n",
       "      <td>2.830936</td>\n",
       "      <td>24.033319</td>\n",
       "      <td>7.768755</td>\n",
       "    </tr>\n",
       "    <tr>\n",
       "      <th>3</th>\n",
       "      <td>24.216319</td>\n",
       "      <td>17.201982</td>\n",
       "      <td>16.774861</td>\n",
       "      <td>14.710524</td>\n",
       "      <td>2.064337</td>\n",
       "      <td>23.494828</td>\n",
       "      <td>8.931489</td>\n",
       "    </tr>\n",
       "  </tbody>\n",
       "</table>\n",
       "</div>"
      ],
      "text/plain": [
       "         POP     CONST1     CONST2     CONST3    CONST4     CONST5    CONST6\n",
       "0  27.184431  15.401242  22.672207  19.602919  3.069288  15.321910  5.285734\n",
       "1  20.248196  12.773735  13.283777  11.268251  2.015525  17.428706  7.825221\n",
       "2  28.351053  19.311262  23.197472  20.366536  2.830936  24.033319  7.768755\n",
       "3  24.216319  17.201982  16.774861  14.710524  2.064337  23.494828  8.931489"
      ]
     },
     "execution_count": 22,
     "metadata": {},
     "output_type": "execute_result"
    }
   ],
   "source": [
    "Yhat"
   ]
  },
  {
   "cell_type": "code",
   "execution_count": 23,
   "metadata": {
    "ExecuteTime": {
     "end_time": "2023-03-20T18:28:26.451572Z",
     "start_time": "2023-03-20T18:28:26.423497Z"
    },
    "execution": {
     "iopub.execute_input": "2025-03-28T00:36:59.533905Z",
     "iopub.status.busy": "2025-03-28T00:36:59.533844Z",
     "iopub.status.idle": "2025-03-28T00:36:59.536865Z",
     "shell.execute_reply": "2025-03-28T00:36:59.536481Z",
     "shell.execute_reply.started": "2025-03-28T00:36:59.533898Z"
    }
   },
   "outputs": [
    {
     "data": {
      "text/html": [
       "<div>\n",
       "<style scoped>\n",
       "    .dataframe tbody tr th:only-of-type {\n",
       "        vertical-align: middle;\n",
       "    }\n",
       "\n",
       "    .dataframe tbody tr th {\n",
       "        vertical-align: top;\n",
       "    }\n",
       "\n",
       "    .dataframe thead th {\n",
       "        text-align: right;\n",
       "    }\n",
       "</style>\n",
       "<table border=\"1\" class=\"dataframe\">\n",
       "  <thead>\n",
       "    <tr style=\"text-align: right;\">\n",
       "      <th></th>\n",
       "      <th>POP</th>\n",
       "      <th>CONST1</th>\n",
       "      <th>CONST2</th>\n",
       "      <th>CONST3</th>\n",
       "      <th>CONST4</th>\n",
       "      <th>CONST5</th>\n",
       "      <th>CONST6</th>\n",
       "    </tr>\n",
       "  </thead>\n",
       "  <tbody>\n",
       "    <tr>\n",
       "      <th>10</th>\n",
       "      <td>28</td>\n",
       "      <td>15</td>\n",
       "      <td>25</td>\n",
       "      <td>15</td>\n",
       "      <td>3</td>\n",
       "      <td>16</td>\n",
       "      <td>5</td>\n",
       "    </tr>\n",
       "    <tr>\n",
       "      <th>11</th>\n",
       "      <td>20</td>\n",
       "      <td>13</td>\n",
       "      <td>13</td>\n",
       "      <td>12</td>\n",
       "      <td>2</td>\n",
       "      <td>17</td>\n",
       "      <td>8</td>\n",
       "    </tr>\n",
       "    <tr>\n",
       "      <th>20</th>\n",
       "      <td>30</td>\n",
       "      <td>18</td>\n",
       "      <td>22</td>\n",
       "      <td>20</td>\n",
       "      <td>3</td>\n",
       "      <td>27</td>\n",
       "      <td>7</td>\n",
       "    </tr>\n",
       "    <tr>\n",
       "      <th>21</th>\n",
       "      <td>22</td>\n",
       "      <td>19</td>\n",
       "      <td>15</td>\n",
       "      <td>18</td>\n",
       "      <td>2</td>\n",
       "      <td>20</td>\n",
       "      <td>10</td>\n",
       "    </tr>\n",
       "  </tbody>\n",
       "</table>\n",
       "</div>"
      ],
      "text/plain": [
       "    POP  CONST1  CONST2  CONST3  CONST4  CONST5  CONST6\n",
       "10   28      15      25      15       3      16       5\n",
       "11   20      13      13      12       2      17       8\n",
       "20   30      18      22      20       3      27       7\n",
       "21   22      19      15      18       2      20      10"
      ]
     },
     "execution_count": 23,
     "metadata": {},
     "output_type": "execute_result"
    }
   ],
   "source": [
    "cbg"
   ]
  },
  {
   "cell_type": "code",
   "execution_count": 24,
   "metadata": {
    "ExecuteTime": {
     "end_time": "2023-03-20T18:28:26.483506Z",
     "start_time": "2023-03-20T18:28:26.453245Z"
    },
    "execution": {
     "iopub.execute_input": "2025-03-28T00:36:59.537391Z",
     "iopub.status.busy": "2025-03-28T00:36:59.537304Z",
     "iopub.status.idle": "2025-03-28T00:36:59.539627Z",
     "shell.execute_reply": "2025-03-28T00:36:59.539398Z",
     "shell.execute_reply.started": "2025-03-28T00:36:59.537383Z"
    }
   },
   "outputs": [
    {
     "data": {
      "text/plain": [
       "array([[ 0.8155686 , -0.40124151,  2.3277927 , -4.60291945, -0.06928784,\n",
       "         0.6780903 , -0.28573399],\n",
       "       [-0.24819605,  0.22626527, -0.2837768 ,  0.73174864, -0.01552544,\n",
       "        -0.42870562,  0.17477949],\n",
       "       [ 1.64894676, -1.31126156, -1.1974718 , -0.36653627,  0.16906448,\n",
       "         2.96668145, -0.76875474],\n",
       "       [-2.21631931,  1.79801801, -1.77486089,  3.28947642, -0.06433731,\n",
       "        -3.49482759,  1.06851068]])"
      ]
     },
     "execution_count": 24,
     "metadata": {},
     "output_type": "execute_result"
    }
   ],
   "source": [
    "# errors\n",
    "err = cbg.values - Yhat.values\n",
    "err"
   ]
  },
  {
   "cell_type": "code",
   "execution_count": 25,
   "metadata": {
    "ExecuteTime": {
     "end_time": "2023-03-20T18:28:26.508968Z",
     "start_time": "2023-03-20T18:28:26.484923Z"
    },
    "execution": {
     "iopub.execute_input": "2025-03-28T00:36:59.540045Z",
     "iopub.status.busy": "2025-03-28T00:36:59.539969Z",
     "iopub.status.idle": "2025-03-28T00:36:59.542362Z",
     "shell.execute_reply": "2025-03-28T00:36:59.542139Z",
     "shell.execute_reply.started": "2025-03-28T00:36:59.540038Z"
    }
   },
   "outputs": [
    {
     "data": {
      "text/plain": [
       "array([[3.29   , 2.87875, 3.70125, 4.935  , 0.8225 , 4.52375, 1.645  ],\n",
       "       [3.29   , 2.4675 , 3.70125, 3.29   , 0.8225 , 4.52375, 1.645  ],\n",
       "       [3.29   , 2.87875, 3.70125, 3.29   , 0.8225 , 4.52375, 1.645  ],\n",
       "       [3.29   , 2.87875, 3.70125, 3.29   , 0.8225 , 4.52375, 1.645  ]])"
      ]
     },
     "execution_count": 25,
     "metadata": {},
     "output_type": "execute_result"
    }
   ],
   "source": [
    "# published 90% MOEs\n",
    "moe = (sbg * 1.645).values\n",
    "moe"
   ]
  },
  {
   "cell_type": "markdown",
   "metadata": {},
   "source": [
    "Check which synthetic constraints match the published MOEs:"
   ]
  },
  {
   "cell_type": "code",
   "execution_count": 26,
   "metadata": {
    "ExecuteTime": {
     "end_time": "2023-03-20T18:28:26.541298Z",
     "start_time": "2023-03-20T18:28:26.510385Z"
    },
    "execution": {
     "iopub.execute_input": "2025-03-28T00:36:59.545116Z",
     "iopub.status.busy": "2025-03-28T00:36:59.545027Z",
     "iopub.status.idle": "2025-03-28T00:36:59.546965Z",
     "shell.execute_reply": "2025-03-28T00:36:59.546708Z",
     "shell.execute_reply.started": "2025-03-28T00:36:59.545108Z"
    }
   },
   "outputs": [
    {
     "data": {
      "text/plain": [
       "array([[ True,  True,  True,  True,  True,  True,  True],\n",
       "       [ True,  True,  True,  True,  True,  True,  True],\n",
       "       [ True,  True,  True,  True,  True,  True,  True],\n",
       "       [ True,  True,  True,  True,  True,  True,  True]])"
      ]
     },
     "execution_count": 26,
     "metadata": {},
     "output_type": "execute_result"
    }
   ],
   "source": [
    "moe_fit = np.abs(err) < moe\n",
    "moe_fit"
   ]
  },
  {
   "cell_type": "markdown",
   "metadata": {},
   "source": [
    "We can return the proportion of synthetic constraints matched to the published MOEs with:"
   ]
  },
  {
   "cell_type": "code",
   "execution_count": 27,
   "metadata": {
    "ExecuteTime": {
     "end_time": "2023-03-20T18:28:26.566909Z",
     "start_time": "2023-03-20T18:28:26.545203Z"
    },
    "execution": {
     "iopub.execute_input": "2025-03-28T00:36:59.547439Z",
     "iopub.status.busy": "2025-03-28T00:36:59.547329Z",
     "iopub.status.idle": "2025-03-28T00:36:59.549398Z",
     "shell.execute_reply": "2025-03-28T00:36:59.549173Z",
     "shell.execute_reply.started": "2025-03-28T00:36:59.547431Z"
    }
   },
   "outputs": [
    {
     "data": {
      "text/plain": [
       "np.float64(1.0)"
      ]
     },
     "execution_count": 27,
     "metadata": {},
     "output_type": "execute_result"
    }
   ],
   "source": [
    "np.sum(moe_fit.flatten()) / np.prod(moe.shape)"
   ]
  }
 ],
 "metadata": {
  "kernelspec": {
   "display_name": "Python 3 (ipykernel)",
   "language": "python",
   "name": "python3"
  },
  "language_info": {
   "codemirror_mode": {
    "name": "ipython",
    "version": 3
   },
   "file_extension": ".py",
   "mimetype": "text/x-python",
   "name": "python",
   "nbconvert_exporter": "python",
   "pygments_lexer": "ipython3",
   "version": "3.12.9"
  }
 },
 "nbformat": 4,
 "nbformat_minor": 4
}
