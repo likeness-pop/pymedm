{
 "cells": [
  {
   "cell_type": "markdown",
   "metadata": {},
   "source": [
    "# P-MEDM Toy Example\n",
    "\n",
    "This illustration replicates an example used in Tuccillo and Spielman (2022).\n",
    "\n",
    "* **Joseph V. Tuccillo & Seth E. Spielman** (2022) A Method for Measuring Coupled Individual and Social Vulnerability to Environmental Hazards, *Annals of the American Association of Geographers*, 112:6, 1702-1725, DOI: [10.1080/24694452.2021.1989283](https://www.tandfonline.com/doi/full/10.1080/24694452.2021.1989283)\n",
    "\n",
    "## Setup"
   ]
  },
  {
   "cell_type": "code",
   "execution_count": 1,
   "metadata": {
    "ExecuteTime": {
     "end_time": "2023-03-20T18:28:13.098377Z",
     "start_time": "2023-03-20T18:28:13.081257Z"
    },
    "execution": {
     "iopub.execute_input": "2025-02-22T00:25:34.929294Z",
     "iopub.status.busy": "2025-02-22T00:25:34.929060Z",
     "iopub.status.idle": "2025-02-22T00:25:34.954876Z",
     "shell.execute_reply": "2025-02-22T00:25:34.954456Z",
     "shell.execute_reply.started": "2025-02-22T00:25:34.929273Z"
    }
   },
   "outputs": [
    {
     "name": "stdout",
     "output_type": "stream",
     "text": [
      "Last updated: 2025-03-20T16:03:17.499959-04:00\n",
      "\n",
      "Python implementation: CPython\n",
      "Python version       : 3.12.9\n",
      "IPython version      : 9.0.2\n",
      "\n",
      "Compiler    : Clang 18.1.8 \n",
      "OS          : Darwin\n",
      "Release     : 24.3.0\n",
      "Machine     : arm64\n",
      "Processor   : arm\n",
      "CPU cores   : 8\n",
      "Architecture: 64bit\n",
      "\n"
     ]
    }
   ],
   "source": [
    "%load_ext watermark\n",
    "%watermark"
   ]
  },
  {
   "cell_type": "code",
   "execution_count": 2,
   "metadata": {
    "ExecuteTime": {
     "end_time": "2023-03-20T18:28:13.730930Z",
     "start_time": "2023-03-20T18:28:13.100603Z"
    },
    "execution": {
     "iopub.execute_input": "2025-02-22T00:25:34.955880Z",
     "iopub.status.busy": "2025-02-22T00:25:34.955684Z",
     "iopub.status.idle": "2025-02-22T00:25:35.433195Z",
     "shell.execute_reply": "2025-02-22T00:25:35.432906Z",
     "shell.execute_reply.started": "2025-02-22T00:25:34.955859Z"
    }
   },
   "outputs": [
    {
     "name": "stdout",
     "output_type": "stream",
     "text": [
      "Watermark: 2.5.0\n",
      "\n",
      "jaxlib: 0.4.31\n",
      "scipy : 1.15.2\n",
      "numpy : 2.2.4\n",
      "pymedm: 2.2.3\n",
      "jaxopt: 0.8.3\n",
      "jax   : 0.4.31\n",
      "pandas: 2.2.3\n",
      "\n"
     ]
    }
   ],
   "source": [
    "import time\n",
    "\n",
    "import jax\n",
    "import jaxlib\n",
    "import jaxopt\n",
    "import numpy as np\n",
    "import pandas as pd\n",
    "import scipy\n",
    "from jax.lib import xla_bridge\n",
    "\n",
    "import pymedm\n",
    "from pymedm.diagnostics import moe_fit_rate\n",
    "\n",
    "%watermark -w\n",
    "%watermark -iv"
   ]
  },
  {
   "cell_type": "raw",
   "metadata": {},
   "source": [
    "# If GPUs available,\n",
    "# make this active to trigger all-CPU run\n",
    "jax.config.update(\"jax_platform_name\", \"cpu\")\n",
    "\n",
    "print(xla_bridge.get_backend().platform)"
   ]
  },
  {
   "cell_type": "code",
   "execution_count": 3,
   "metadata": {
    "execution": {
     "iopub.execute_input": "2025-02-22T00:25:35.434257Z",
     "iopub.status.busy": "2025-02-22T00:25:35.434165Z",
     "iopub.status.idle": "2025-02-22T00:25:35.453033Z",
     "shell.execute_reply": "2025-02-22T00:25:35.452828Z",
     "shell.execute_reply.started": "2025-02-22T00:25:35.434250Z"
    }
   },
   "outputs": [
    {
     "data": {
      "text/html": [
       "<div>\n",
       "<style scoped>\n",
       "    .dataframe tbody tr th:only-of-type {\n",
       "        vertical-align: middle;\n",
       "    }\n",
       "\n",
       "    .dataframe tbody tr th {\n",
       "        vertical-align: top;\n",
       "    }\n",
       "\n",
       "    .dataframe thead th {\n",
       "        text-align: right;\n",
       "    }\n",
       "</style>\n",
       "<table border=\"1\" class=\"dataframe\">\n",
       "  <thead>\n",
       "    <tr style=\"text-align: right;\">\n",
       "      <th></th>\n",
       "      <th>device</th>\n",
       "      <th>available</th>\n",
       "      <th>count</th>\n",
       "    </tr>\n",
       "  </thead>\n",
       "  <tbody>\n",
       "    <tr>\n",
       "      <th>0</th>\n",
       "      <td>cpu</td>\n",
       "      <td>yes</td>\n",
       "      <td>1</td>\n",
       "    </tr>\n",
       "    <tr>\n",
       "      <th>1</th>\n",
       "      <td>gpu</td>\n",
       "      <td>no</td>\n",
       "      <td>0</td>\n",
       "    </tr>\n",
       "    <tr>\n",
       "      <th>2</th>\n",
       "      <td>tpu</td>\n",
       "      <td>no</td>\n",
       "      <td>0</td>\n",
       "    </tr>\n",
       "  </tbody>\n",
       "</table>\n",
       "</div>"
      ],
      "text/plain": [
       "  device available  count\n",
       "0    cpu       yes      1\n",
       "1    gpu        no      0\n",
       "2    tpu        no      0"
      ]
     },
     "execution_count": 3,
     "metadata": {},
     "output_type": "execute_result"
    }
   ],
   "source": [
    "pymedm.processor_availability()"
   ]
  },
  {
   "cell_type": "markdown",
   "metadata": {},
   "source": [
    "### Inputs\n",
    "1. Microdata Response IDs (`serial`)\n",
    "2. Microdata sample weights (`wt`)\n",
    "3. Individual-Level constraints from microdata (`cind`)\n",
    "4. Geographic constraints at target scale (census block groups) (`cg2` / `cbg`) and parent scale (census tracts) (`cg1` / `ctrt`)\n",
    "5. Geographic constraint standard errors at target scale (census block groups) (`sg2` / `sbg`) and parent scale (census tracts) (`sg1` / `strt`)\n"
   ]
  },
  {
   "cell_type": "markdown",
   "metadata": {},
   "source": [
    "Load the individual constraints:"
   ]
  },
  {
   "cell_type": "code",
   "execution_count": 4,
   "metadata": {
    "ExecuteTime": {
     "end_time": "2023-03-20T18:28:13.802194Z",
     "start_time": "2023-03-20T18:28:13.764406Z"
    },
    "execution": {
     "iopub.execute_input": "2025-02-22T00:25:35.453369Z",
     "iopub.status.busy": "2025-02-22T00:25:35.453299Z",
     "iopub.status.idle": "2025-02-22T00:25:35.457332Z",
     "shell.execute_reply": "2025-02-22T00:25:35.457128Z",
     "shell.execute_reply.started": "2025-02-22T00:25:35.453361Z"
    }
   },
   "outputs": [
    {
     "data": {
      "text/html": [
       "<div>\n",
       "<style scoped>\n",
       "    .dataframe tbody tr th:only-of-type {\n",
       "        vertical-align: middle;\n",
       "    }\n",
       "\n",
       "    .dataframe tbody tr th {\n",
       "        vertical-align: top;\n",
       "    }\n",
       "\n",
       "    .dataframe thead th {\n",
       "        text-align: right;\n",
       "    }\n",
       "</style>\n",
       "<table border=\"1\" class=\"dataframe\">\n",
       "  <thead>\n",
       "    <tr style=\"text-align: right;\">\n",
       "      <th></th>\n",
       "      <th>SERIAL</th>\n",
       "      <th>PERWT</th>\n",
       "      <th>POP</th>\n",
       "      <th>CONST1</th>\n",
       "      <th>CONST2</th>\n",
       "      <th>CONST3</th>\n",
       "      <th>CONST4</th>\n",
       "      <th>CONST5</th>\n",
       "      <th>CONST6</th>\n",
       "    </tr>\n",
       "  </thead>\n",
       "  <tbody>\n",
       "    <tr>\n",
       "      <th>0</th>\n",
       "      <td>A</td>\n",
       "      <td>50</td>\n",
       "      <td>1</td>\n",
       "      <td>1</td>\n",
       "      <td>1</td>\n",
       "      <td>1</td>\n",
       "      <td>0</td>\n",
       "      <td>1</td>\n",
       "      <td>0</td>\n",
       "    </tr>\n",
       "    <tr>\n",
       "      <th>1</th>\n",
       "      <td>B</td>\n",
       "      <td>20</td>\n",
       "      <td>1</td>\n",
       "      <td>0</td>\n",
       "      <td>0</td>\n",
       "      <td>0</td>\n",
       "      <td>0</td>\n",
       "      <td>1</td>\n",
       "      <td>1</td>\n",
       "    </tr>\n",
       "    <tr>\n",
       "      <th>2</th>\n",
       "      <td>C</td>\n",
       "      <td>10</td>\n",
       "      <td>1</td>\n",
       "      <td>1</td>\n",
       "      <td>1</td>\n",
       "      <td>0</td>\n",
       "      <td>1</td>\n",
       "      <td>1</td>\n",
       "      <td>1</td>\n",
       "    </tr>\n",
       "    <tr>\n",
       "      <th>3</th>\n",
       "      <td>D</td>\n",
       "      <td>5</td>\n",
       "      <td>1</td>\n",
       "      <td>1</td>\n",
       "      <td>0</td>\n",
       "      <td>0</td>\n",
       "      <td>0</td>\n",
       "      <td>0</td>\n",
       "      <td>0</td>\n",
       "    </tr>\n",
       "    <tr>\n",
       "      <th>4</th>\n",
       "      <td>E</td>\n",
       "      <td>15</td>\n",
       "      <td>1</td>\n",
       "      <td>0</td>\n",
       "      <td>1</td>\n",
       "      <td>1</td>\n",
       "      <td>0</td>\n",
       "      <td>0</td>\n",
       "      <td>0</td>\n",
       "    </tr>\n",
       "  </tbody>\n",
       "</table>\n",
       "</div>"
      ],
      "text/plain": [
       "  SERIAL  PERWT  POP  CONST1  CONST2  CONST3  CONST4  CONST5  CONST6\n",
       "0      A     50    1       1       1       1       0       1       0\n",
       "1      B     20    1       0       0       0       0       1       1\n",
       "2      C     10    1       1       1       0       1       1       1\n",
       "3      D      5    1       1       0       0       0       0       0\n",
       "4      E     15    1       0       1       1       0       0       0"
      ]
     },
     "execution_count": 4,
     "metadata": {},
     "output_type": "execute_result"
    }
   ],
   "source": [
    "cind = pd.read_csv(\"../data/toy_constraints_ind.csv\")\n",
    "cind.head()"
   ]
  },
  {
   "cell_type": "markdown",
   "metadata": {},
   "source": [
    "Assign the response IDs and sample weights to variables:"
   ]
  },
  {
   "cell_type": "code",
   "execution_count": 5,
   "metadata": {
    "ExecuteTime": {
     "end_time": "2023-03-20T18:28:13.827738Z",
     "start_time": "2023-03-20T18:28:13.803734Z"
    },
    "execution": {
     "iopub.execute_input": "2025-02-22T00:25:35.457758Z",
     "iopub.status.busy": "2025-02-22T00:25:35.457693Z",
     "iopub.status.idle": "2025-02-22T00:25:35.459094Z",
     "shell.execute_reply": "2025-02-22T00:25:35.458922Z",
     "shell.execute_reply.started": "2025-02-22T00:25:35.457751Z"
    }
   },
   "outputs": [],
   "source": [
    "## response IDs\n",
    "serial = cind.SERIAL.values"
   ]
  },
  {
   "cell_type": "code",
   "execution_count": 6,
   "metadata": {
    "ExecuteTime": {
     "end_time": "2023-03-20T18:28:13.905253Z",
     "start_time": "2023-03-20T18:28:13.829213Z"
    },
    "execution": {
     "iopub.execute_input": "2025-02-22T00:25:35.459477Z",
     "iopub.status.busy": "2025-02-22T00:25:35.459389Z",
     "iopub.status.idle": "2025-02-22T00:25:35.460923Z",
     "shell.execute_reply": "2025-02-22T00:25:35.460582Z",
     "shell.execute_reply.started": "2025-02-22T00:25:35.459471Z"
    }
   },
   "outputs": [],
   "source": [
    "## sample weights\n",
    "wt = cind.PERWT.values"
   ]
  },
  {
   "cell_type": "markdown",
   "metadata": {},
   "source": [
    "Drop response IDs and sample weights from individual-level constraints:"
   ]
  },
  {
   "cell_type": "code",
   "execution_count": 7,
   "metadata": {
    "ExecuteTime": {
     "end_time": "2023-03-20T18:28:13.924399Z",
     "start_time": "2023-03-20T18:28:13.906785Z"
    },
    "execution": {
     "iopub.execute_input": "2025-02-22T00:25:35.461402Z",
     "iopub.status.busy": "2025-02-22T00:25:35.461322Z",
     "iopub.status.idle": "2025-02-22T00:25:35.463389Z",
     "shell.execute_reply": "2025-02-22T00:25:35.463130Z",
     "shell.execute_reply.started": "2025-02-22T00:25:35.461395Z"
    }
   },
   "outputs": [],
   "source": [
    "cind = cind.drop([\"SERIAL\", \"PERWT\"], axis=1)"
   ]
  },
  {
   "cell_type": "markdown",
   "metadata": {},
   "source": [
    "Next, load the geographic constraints. For this example, we will only load the target-level (block group) constraints and aggregate them to the parent level (tract) manually. With ACS data, it is more common to fetch and load these constraints separately. However, this approach can still be useful for dealing with nonstandard parent geographies (i.e., aggregating block groups to statistical neighborhoods in a city)."
   ]
  },
  {
   "cell_type": "code",
   "execution_count": 8,
   "metadata": {
    "ExecuteTime": {
     "end_time": "2023-03-20T18:28:13.955036Z",
     "start_time": "2023-03-20T18:28:13.925910Z"
    },
    "execution": {
     "iopub.execute_input": "2025-02-22T00:25:35.463910Z",
     "iopub.status.busy": "2025-02-22T00:25:35.463790Z",
     "iopub.status.idle": "2025-02-22T00:25:35.466298Z",
     "shell.execute_reply": "2025-02-22T00:25:35.466084Z",
     "shell.execute_reply.started": "2025-02-22T00:25:35.463900Z"
    }
   },
   "outputs": [],
   "source": [
    "# Geographic constraints\n",
    "cbg0 = pd.read_csv(\"../data/toy_constraints_bg.csv\")\n",
    "cbg0.index = cbg0.GEOID.values"
   ]
  },
  {
   "cell_type": "code",
   "execution_count": 9,
   "metadata": {
    "ExecuteTime": {
     "end_time": "2023-03-20T18:28:13.989115Z",
     "start_time": "2023-03-20T18:28:13.957921Z"
    },
    "execution": {
     "iopub.execute_input": "2025-02-22T00:25:35.466781Z",
     "iopub.status.busy": "2025-02-22T00:25:35.466673Z",
     "iopub.status.idle": "2025-02-22T00:25:35.468861Z",
     "shell.execute_reply": "2025-02-22T00:25:35.468563Z",
     "shell.execute_reply.started": "2025-02-22T00:25:35.466774Z"
    }
   },
   "outputs": [],
   "source": [
    "# separate ests and standard errors\n",
    "se_cols = cbg0.columns[np.where([k.endswith(\"s\") for k in cbg0.columns])]\n",
    "est_cols = cbg0.columns[\n",
    "    np.where([(k not in se_cols) & (k != \"GEOID\") for k in cbg0.columns])\n",
    "]\n",
    "\n",
    "cbg = cbg0[est_cols]\n",
    "sbg = cbg0[se_cols]"
   ]
  },
  {
   "cell_type": "code",
   "execution_count": 10,
   "metadata": {
    "ExecuteTime": {
     "end_time": "2023-03-20T18:28:14.017865Z",
     "start_time": "2023-03-20T18:28:13.990562Z"
    },
    "execution": {
     "iopub.execute_input": "2025-02-22T00:25:35.469282Z",
     "iopub.status.busy": "2025-02-22T00:25:35.469191Z",
     "iopub.status.idle": "2025-02-22T00:25:35.471125Z",
     "shell.execute_reply": "2025-02-22T00:25:35.470893Z",
     "shell.execute_reply.started": "2025-02-22T00:25:35.469276Z"
    }
   },
   "outputs": [],
   "source": [
    "## Tract constraints\n",
    "ctrt0 = cbg0.copy()\n",
    "\n",
    "ctrt0.index = [str(i)[0] for i in ctrt0.GEOID.values]\n",
    "\n",
    "ctrt0 = ctrt0.drop(\"GEOID\", axis=1)"
   ]
  },
  {
   "cell_type": "code",
   "execution_count": 11,
   "metadata": {
    "ExecuteTime": {
     "end_time": "2023-03-20T18:28:14.036858Z",
     "start_time": "2023-03-20T18:28:14.019497Z"
    },
    "execution": {
     "iopub.execute_input": "2025-02-22T00:25:35.471546Z",
     "iopub.status.busy": "2025-02-22T00:25:35.471454Z",
     "iopub.status.idle": "2025-02-22T00:25:35.473447Z",
     "shell.execute_reply": "2025-02-22T00:25:35.473181Z",
     "shell.execute_reply.started": "2025-02-22T00:25:35.471538Z"
    }
   },
   "outputs": [],
   "source": [
    "# separate ests and standard errors\n",
    "ctrt = ctrt0[est_cols]\n",
    "strt = ctrt0[se_cols]"
   ]
  },
  {
   "cell_type": "code",
   "execution_count": 12,
   "metadata": {
    "ExecuteTime": {
     "end_time": "2023-03-20T18:28:14.062038Z",
     "start_time": "2023-03-20T18:28:14.038143Z"
    },
    "execution": {
     "iopub.execute_input": "2025-02-22T00:25:35.475502Z",
     "iopub.status.busy": "2025-02-22T00:25:35.475412Z",
     "iopub.status.idle": "2025-02-22T00:25:35.477448Z",
     "shell.execute_reply": "2025-02-22T00:25:35.477227Z",
     "shell.execute_reply.started": "2025-02-22T00:25:35.475495Z"
    }
   },
   "outputs": [],
   "source": [
    "# aggregate ests\n",
    "ctrt = ctrt.groupby(ctrt.index).aggregate(\"sum\")"
   ]
  },
  {
   "cell_type": "code",
   "execution_count": 13,
   "metadata": {
    "ExecuteTime": {
     "end_time": "2023-03-20T18:28:14.113417Z",
     "start_time": "2023-03-20T18:28:14.063547Z"
    },
    "execution": {
     "iopub.execute_input": "2025-02-22T00:25:35.477767Z",
     "iopub.status.busy": "2025-02-22T00:25:35.477700Z",
     "iopub.status.idle": "2025-02-22T00:25:35.481892Z",
     "shell.execute_reply": "2025-02-22T00:25:35.481668Z",
     "shell.execute_reply.started": "2025-02-22T00:25:35.477760Z"
    }
   },
   "outputs": [],
   "source": [
    "# aggregate SE's\n",
    "strt = strt.groupby(strt.index).aggregate(lambda x: np.sqrt(np.sum(np.square(x))))"
   ]
  },
  {
   "cell_type": "markdown",
   "metadata": {},
   "source": [
    "The final inputs look like:"
   ]
  },
  {
   "cell_type": "code",
   "execution_count": 14,
   "metadata": {
    "ExecuteTime": {
     "end_time": "2023-03-20T18:28:14.142026Z",
     "start_time": "2023-03-20T18:28:14.115254Z"
    },
    "execution": {
     "iopub.execute_input": "2025-02-22T00:25:35.482355Z",
     "iopub.status.busy": "2025-02-22T00:25:35.482245Z",
     "iopub.status.idle": "2025-02-22T00:25:35.485031Z",
     "shell.execute_reply": "2025-02-22T00:25:35.484817Z",
     "shell.execute_reply.started": "2025-02-22T00:25:35.482347Z"
    }
   },
   "outputs": [
    {
     "data": {
      "text/html": [
       "<div>\n",
       "<style scoped>\n",
       "    .dataframe tbody tr th:only-of-type {\n",
       "        vertical-align: middle;\n",
       "    }\n",
       "\n",
       "    .dataframe tbody tr th {\n",
       "        vertical-align: top;\n",
       "    }\n",
       "\n",
       "    .dataframe thead th {\n",
       "        text-align: right;\n",
       "    }\n",
       "</style>\n",
       "<table border=\"1\" class=\"dataframe\">\n",
       "  <thead>\n",
       "    <tr style=\"text-align: right;\">\n",
       "      <th></th>\n",
       "      <th>POP</th>\n",
       "      <th>CONST1</th>\n",
       "      <th>CONST2</th>\n",
       "      <th>CONST3</th>\n",
       "      <th>CONST4</th>\n",
       "      <th>CONST5</th>\n",
       "      <th>CONST6</th>\n",
       "    </tr>\n",
       "  </thead>\n",
       "  <tbody>\n",
       "    <tr>\n",
       "      <th>0</th>\n",
       "      <td>1</td>\n",
       "      <td>1</td>\n",
       "      <td>1</td>\n",
       "      <td>1</td>\n",
       "      <td>0</td>\n",
       "      <td>1</td>\n",
       "      <td>0</td>\n",
       "    </tr>\n",
       "    <tr>\n",
       "      <th>1</th>\n",
       "      <td>1</td>\n",
       "      <td>0</td>\n",
       "      <td>0</td>\n",
       "      <td>0</td>\n",
       "      <td>0</td>\n",
       "      <td>1</td>\n",
       "      <td>1</td>\n",
       "    </tr>\n",
       "    <tr>\n",
       "      <th>2</th>\n",
       "      <td>1</td>\n",
       "      <td>1</td>\n",
       "      <td>1</td>\n",
       "      <td>0</td>\n",
       "      <td>1</td>\n",
       "      <td>1</td>\n",
       "      <td>1</td>\n",
       "    </tr>\n",
       "    <tr>\n",
       "      <th>3</th>\n",
       "      <td>1</td>\n",
       "      <td>1</td>\n",
       "      <td>0</td>\n",
       "      <td>0</td>\n",
       "      <td>0</td>\n",
       "      <td>0</td>\n",
       "      <td>0</td>\n",
       "    </tr>\n",
       "    <tr>\n",
       "      <th>4</th>\n",
       "      <td>1</td>\n",
       "      <td>0</td>\n",
       "      <td>1</td>\n",
       "      <td>1</td>\n",
       "      <td>0</td>\n",
       "      <td>0</td>\n",
       "      <td>0</td>\n",
       "    </tr>\n",
       "  </tbody>\n",
       "</table>\n",
       "</div>"
      ],
      "text/plain": [
       "   POP  CONST1  CONST2  CONST3  CONST4  CONST5  CONST6\n",
       "0    1       1       1       1       0       1       0\n",
       "1    1       0       0       0       0       1       1\n",
       "2    1       1       1       0       1       1       1\n",
       "3    1       1       0       0       0       0       0\n",
       "4    1       0       1       1       0       0       0"
      ]
     },
     "execution_count": 14,
     "metadata": {},
     "output_type": "execute_result"
    }
   ],
   "source": [
    "# Individual Constraints\n",
    "cind"
   ]
  },
  {
   "cell_type": "code",
   "execution_count": 15,
   "metadata": {
    "ExecuteTime": {
     "end_time": "2023-03-20T18:28:14.165753Z",
     "start_time": "2023-03-20T18:28:14.143529Z"
    },
    "execution": {
     "iopub.execute_input": "2025-02-22T00:25:35.485452Z",
     "iopub.status.busy": "2025-02-22T00:25:35.485357Z",
     "iopub.status.idle": "2025-02-22T00:25:35.488458Z",
     "shell.execute_reply": "2025-02-22T00:25:35.488172Z",
     "shell.execute_reply.started": "2025-02-22T00:25:35.485445Z"
    }
   },
   "outputs": [
    {
     "data": {
      "text/html": [
       "<div>\n",
       "<style scoped>\n",
       "    .dataframe tbody tr th:only-of-type {\n",
       "        vertical-align: middle;\n",
       "    }\n",
       "\n",
       "    .dataframe tbody tr th {\n",
       "        vertical-align: top;\n",
       "    }\n",
       "\n",
       "    .dataframe thead th {\n",
       "        text-align: right;\n",
       "    }\n",
       "</style>\n",
       "<table border=\"1\" class=\"dataframe\">\n",
       "  <thead>\n",
       "    <tr style=\"text-align: right;\">\n",
       "      <th></th>\n",
       "      <th>POP</th>\n",
       "      <th>CONST1</th>\n",
       "      <th>CONST2</th>\n",
       "      <th>CONST3</th>\n",
       "      <th>CONST4</th>\n",
       "      <th>CONST5</th>\n",
       "      <th>CONST6</th>\n",
       "    </tr>\n",
       "  </thead>\n",
       "  <tbody>\n",
       "    <tr>\n",
       "      <th>10</th>\n",
       "      <td>28</td>\n",
       "      <td>15</td>\n",
       "      <td>25</td>\n",
       "      <td>15</td>\n",
       "      <td>3</td>\n",
       "      <td>16</td>\n",
       "      <td>5</td>\n",
       "    </tr>\n",
       "    <tr>\n",
       "      <th>11</th>\n",
       "      <td>20</td>\n",
       "      <td>13</td>\n",
       "      <td>13</td>\n",
       "      <td>12</td>\n",
       "      <td>2</td>\n",
       "      <td>17</td>\n",
       "      <td>8</td>\n",
       "    </tr>\n",
       "    <tr>\n",
       "      <th>20</th>\n",
       "      <td>30</td>\n",
       "      <td>18</td>\n",
       "      <td>22</td>\n",
       "      <td>20</td>\n",
       "      <td>3</td>\n",
       "      <td>27</td>\n",
       "      <td>7</td>\n",
       "    </tr>\n",
       "    <tr>\n",
       "      <th>21</th>\n",
       "      <td>22</td>\n",
       "      <td>19</td>\n",
       "      <td>15</td>\n",
       "      <td>18</td>\n",
       "      <td>2</td>\n",
       "      <td>20</td>\n",
       "      <td>10</td>\n",
       "    </tr>\n",
       "  </tbody>\n",
       "</table>\n",
       "</div>"
      ],
      "text/plain": [
       "    POP  CONST1  CONST2  CONST3  CONST4  CONST5  CONST6\n",
       "10   28      15      25      15       3      16       5\n",
       "11   20      13      13      12       2      17       8\n",
       "20   30      18      22      20       3      27       7\n",
       "21   22      19      15      18       2      20      10"
      ]
     },
     "execution_count": 15,
     "metadata": {},
     "output_type": "execute_result"
    }
   ],
   "source": [
    "# Geographic constraints (target scale)\n",
    "cbg"
   ]
  },
  {
   "cell_type": "code",
   "execution_count": 16,
   "metadata": {
    "ExecuteTime": {
     "end_time": "2023-03-20T18:28:14.179645Z",
     "start_time": "2023-03-20T18:28:14.167319Z"
    },
    "execution": {
     "iopub.execute_input": "2025-02-22T00:25:35.488945Z",
     "iopub.status.busy": "2025-02-22T00:25:35.488842Z",
     "iopub.status.idle": "2025-02-22T00:25:35.492177Z",
     "shell.execute_reply": "2025-02-22T00:25:35.491942Z",
     "shell.execute_reply.started": "2025-02-22T00:25:35.488939Z"
    }
   },
   "outputs": [
    {
     "data": {
      "text/html": [
       "<div>\n",
       "<style scoped>\n",
       "    .dataframe tbody tr th:only-of-type {\n",
       "        vertical-align: middle;\n",
       "    }\n",
       "\n",
       "    .dataframe tbody tr th {\n",
       "        vertical-align: top;\n",
       "    }\n",
       "\n",
       "    .dataframe thead th {\n",
       "        text-align: right;\n",
       "    }\n",
       "</style>\n",
       "<table border=\"1\" class=\"dataframe\">\n",
       "  <thead>\n",
       "    <tr style=\"text-align: right;\">\n",
       "      <th></th>\n",
       "      <th>POPs</th>\n",
       "      <th>CONST1s</th>\n",
       "      <th>CONST2s</th>\n",
       "      <th>CONST3s</th>\n",
       "      <th>CONST4s</th>\n",
       "      <th>CONST5s</th>\n",
       "      <th>CONST6s</th>\n",
       "    </tr>\n",
       "  </thead>\n",
       "  <tbody>\n",
       "    <tr>\n",
       "      <th>10</th>\n",
       "      <td>2</td>\n",
       "      <td>1.75</td>\n",
       "      <td>2.25</td>\n",
       "      <td>3</td>\n",
       "      <td>0.5</td>\n",
       "      <td>2.75</td>\n",
       "      <td>1</td>\n",
       "    </tr>\n",
       "    <tr>\n",
       "      <th>11</th>\n",
       "      <td>2</td>\n",
       "      <td>1.50</td>\n",
       "      <td>2.25</td>\n",
       "      <td>2</td>\n",
       "      <td>0.5</td>\n",
       "      <td>2.75</td>\n",
       "      <td>1</td>\n",
       "    </tr>\n",
       "    <tr>\n",
       "      <th>20</th>\n",
       "      <td>2</td>\n",
       "      <td>1.75</td>\n",
       "      <td>2.25</td>\n",
       "      <td>2</td>\n",
       "      <td>0.5</td>\n",
       "      <td>2.75</td>\n",
       "      <td>1</td>\n",
       "    </tr>\n",
       "    <tr>\n",
       "      <th>21</th>\n",
       "      <td>2</td>\n",
       "      <td>1.75</td>\n",
       "      <td>2.25</td>\n",
       "      <td>2</td>\n",
       "      <td>0.5</td>\n",
       "      <td>2.75</td>\n",
       "      <td>1</td>\n",
       "    </tr>\n",
       "  </tbody>\n",
       "</table>\n",
       "</div>"
      ],
      "text/plain": [
       "    POPs  CONST1s  CONST2s  CONST3s  CONST4s  CONST5s  CONST6s\n",
       "10     2     1.75     2.25        3      0.5     2.75        1\n",
       "11     2     1.50     2.25        2      0.5     2.75        1\n",
       "20     2     1.75     2.25        2      0.5     2.75        1\n",
       "21     2     1.75     2.25        2      0.5     2.75        1"
      ]
     },
     "execution_count": 16,
     "metadata": {},
     "output_type": "execute_result"
    }
   ],
   "source": [
    "# Geographic constraint standard errors (target scale)\n",
    "sbg"
   ]
  },
  {
   "cell_type": "code",
   "execution_count": 17,
   "metadata": {
    "ExecuteTime": {
     "end_time": "2023-03-20T18:28:14.220835Z",
     "start_time": "2023-03-20T18:28:14.181246Z"
    },
    "execution": {
     "iopub.execute_input": "2025-02-22T00:25:35.492643Z",
     "iopub.status.busy": "2025-02-22T00:25:35.492533Z",
     "iopub.status.idle": "2025-02-22T00:25:35.495279Z",
     "shell.execute_reply": "2025-02-22T00:25:35.495074Z",
     "shell.execute_reply.started": "2025-02-22T00:25:35.492636Z"
    }
   },
   "outputs": [
    {
     "data": {
      "text/html": [
       "<div>\n",
       "<style scoped>\n",
       "    .dataframe tbody tr th:only-of-type {\n",
       "        vertical-align: middle;\n",
       "    }\n",
       "\n",
       "    .dataframe tbody tr th {\n",
       "        vertical-align: top;\n",
       "    }\n",
       "\n",
       "    .dataframe thead th {\n",
       "        text-align: right;\n",
       "    }\n",
       "</style>\n",
       "<table border=\"1\" class=\"dataframe\">\n",
       "  <thead>\n",
       "    <tr style=\"text-align: right;\">\n",
       "      <th></th>\n",
       "      <th>POP</th>\n",
       "      <th>CONST1</th>\n",
       "      <th>CONST2</th>\n",
       "      <th>CONST3</th>\n",
       "      <th>CONST4</th>\n",
       "      <th>CONST5</th>\n",
       "      <th>CONST6</th>\n",
       "    </tr>\n",
       "  </thead>\n",
       "  <tbody>\n",
       "    <tr>\n",
       "      <th>1</th>\n",
       "      <td>48</td>\n",
       "      <td>28</td>\n",
       "      <td>38</td>\n",
       "      <td>27</td>\n",
       "      <td>5</td>\n",
       "      <td>33</td>\n",
       "      <td>13</td>\n",
       "    </tr>\n",
       "    <tr>\n",
       "      <th>2</th>\n",
       "      <td>52</td>\n",
       "      <td>37</td>\n",
       "      <td>37</td>\n",
       "      <td>38</td>\n",
       "      <td>5</td>\n",
       "      <td>47</td>\n",
       "      <td>17</td>\n",
       "    </tr>\n",
       "  </tbody>\n",
       "</table>\n",
       "</div>"
      ],
      "text/plain": [
       "   POP  CONST1  CONST2  CONST3  CONST4  CONST5  CONST6\n",
       "1   48      28      38      27       5      33      13\n",
       "2   52      37      37      38       5      47      17"
      ]
     },
     "execution_count": 17,
     "metadata": {},
     "output_type": "execute_result"
    }
   ],
   "source": [
    "# Geographic constraints (parent scale)\n",
    "ctrt"
   ]
  },
  {
   "cell_type": "code",
   "execution_count": 18,
   "metadata": {
    "ExecuteTime": {
     "end_time": "2023-03-20T18:28:14.241257Z",
     "start_time": "2023-03-20T18:28:14.222451Z"
    },
    "execution": {
     "iopub.execute_input": "2025-02-22T00:25:35.495711Z",
     "iopub.status.busy": "2025-02-22T00:25:35.495628Z",
     "iopub.status.idle": "2025-02-22T00:25:35.498630Z",
     "shell.execute_reply": "2025-02-22T00:25:35.498421Z",
     "shell.execute_reply.started": "2025-02-22T00:25:35.495704Z"
    }
   },
   "outputs": [
    {
     "data": {
      "text/html": [
       "<div>\n",
       "<style scoped>\n",
       "    .dataframe tbody tr th:only-of-type {\n",
       "        vertical-align: middle;\n",
       "    }\n",
       "\n",
       "    .dataframe tbody tr th {\n",
       "        vertical-align: top;\n",
       "    }\n",
       "\n",
       "    .dataframe thead th {\n",
       "        text-align: right;\n",
       "    }\n",
       "</style>\n",
       "<table border=\"1\" class=\"dataframe\">\n",
       "  <thead>\n",
       "    <tr style=\"text-align: right;\">\n",
       "      <th></th>\n",
       "      <th>POPs</th>\n",
       "      <th>CONST1s</th>\n",
       "      <th>CONST2s</th>\n",
       "      <th>CONST3s</th>\n",
       "      <th>CONST4s</th>\n",
       "      <th>CONST5s</th>\n",
       "      <th>CONST6s</th>\n",
       "    </tr>\n",
       "  </thead>\n",
       "  <tbody>\n",
       "    <tr>\n",
       "      <th>1</th>\n",
       "      <td>2.828427</td>\n",
       "      <td>2.304886</td>\n",
       "      <td>3.181981</td>\n",
       "      <td>3.605551</td>\n",
       "      <td>0.707107</td>\n",
       "      <td>3.889087</td>\n",
       "      <td>1.414214</td>\n",
       "    </tr>\n",
       "    <tr>\n",
       "      <th>2</th>\n",
       "      <td>2.828427</td>\n",
       "      <td>2.474874</td>\n",
       "      <td>3.181981</td>\n",
       "      <td>2.828427</td>\n",
       "      <td>0.707107</td>\n",
       "      <td>3.889087</td>\n",
       "      <td>1.414214</td>\n",
       "    </tr>\n",
       "  </tbody>\n",
       "</table>\n",
       "</div>"
      ],
      "text/plain": [
       "       POPs   CONST1s   CONST2s   CONST3s   CONST4s   CONST5s   CONST6s\n",
       "1  2.828427  2.304886  3.181981  3.605551  0.707107  3.889087  1.414214\n",
       "2  2.828427  2.474874  3.181981  2.828427  0.707107  3.889087  1.414214"
      ]
     },
     "execution_count": 18,
     "metadata": {},
     "output_type": "execute_result"
    }
   ],
   "source": [
    "# Geographic constraint standard errors (parent scale)\n",
    "strt"
   ]
  },
  {
   "cell_type": "markdown",
   "metadata": {},
   "source": [
    "## Population Synthesis\n",
    "\n",
    "<div class=\"alert alert-block alert-warning\">\n",
    "<b>Usage:</b>\n",
    "    <br>• Setting 'n_reps >= 1' triggers the replicate generation workflow, which runs 'compute_hessian_matrix()'.\n",
    "    <br>• The Hessian Matrix functionality within that function is highly experimental and not mature.\n",
    "    <br>• Use with caution.\n",
    "    <br>• Results are not guaranteed.\n",
    "</div>"
   ]
  },
  {
   "cell_type": "code",
   "execution_count": 19,
   "metadata": {
    "ExecuteTime": {
     "end_time": "2023-03-20T18:28:15.043220Z",
     "start_time": "2023-03-20T18:28:14.242757Z"
    },
    "execution": {
     "iopub.execute_input": "2025-02-22T00:25:35.499106Z",
     "iopub.status.busy": "2025-02-22T00:25:35.498988Z",
     "iopub.status.idle": "2025-02-22T00:25:35.590300Z",
     "shell.execute_reply": "2025-02-22T00:25:35.589977Z",
     "shell.execute_reply.started": "2025-02-22T00:25:35.499098Z"
    }
   },
   "outputs": [],
   "source": [
    "## Create P-MEDM object\n",
    "pmd = pymedm.PMEDM(\n",
    "    2019,\n",
    "    serial,\n",
    "    wt,\n",
    "    cind,\n",
    "    ctrt,\n",
    "    cbg,\n",
    "    strt,\n",
    "    sbg,\n",
    "    include_cg0=False,\n",
    "    n_reps=1000,\n",
    "    verbose=True,\n",
    ")"
   ]
  },
  {
   "cell_type": "code",
   "execution_count": 20,
   "metadata": {
    "ExecuteTime": {
     "end_time": "2023-03-20T18:28:26.373718Z",
     "start_time": "2023-03-20T18:28:15.045084Z"
    },
    "execution": {
     "iopub.execute_input": "2025-02-22T00:25:35.590849Z",
     "iopub.status.busy": "2025-02-22T00:25:35.590766Z",
     "iopub.status.idle": "2025-02-22T00:25:37.060252Z",
     "shell.execute_reply": "2025-02-22T00:25:37.059987Z",
     "shell.execute_reply.started": "2025-02-22T00:25:35.590839Z"
    }
   },
   "outputs": [
    {
     "name": "stdout",
     "output_type": "stream",
     "text": [
      "Initializing P-MEDM solver...\n",
      "P-MEDM completed in 1.6271 seconds.\n",
      "\n",
      "Generating 1000 replicates of the allocation matrix. The Hessian Matrix functionality here is highly experimental and not mature. Use with caution.\n",
      "\n",
      "Replicates generated in 0.3494 seconds.\n",
      "\n",
      "Completed in 2.0517 seconds.\n"
     ]
    }
   ],
   "source": [
    "## Run P-MEDM solver\n",
    "start_time = time.time()\n",
    "# pmd = solve(pmd)\n",
    "pmd.solve()\n",
    "exec_time = np.round(time.time() - start_time, 4)\n",
    "print(f\"\\nCompleted in {exec_time} seconds.\")"
   ]
  },
  {
   "cell_type": "markdown",
   "metadata": {},
   "source": [
    "### Goodness of Fit\n",
    "\n",
    "To assess P-MEDM goodness of fit, we reconstruct the target (block group) geographic constraints from the synthetic population estimate (`pmd.almat`), compute errors, and compare the errors to the published 90% margins of error (MOE)."
   ]
  },
  {
   "cell_type": "code",
   "execution_count": 21,
   "metadata": {
    "ExecuteTime": {
     "end_time": "2023-03-20T18:28:26.404501Z",
     "start_time": "2023-03-20T18:28:26.375588Z"
    },
    "execution": {
     "iopub.execute_input": "2025-02-22T00:25:37.060646Z",
     "iopub.status.busy": "2025-02-22T00:25:37.060567Z",
     "iopub.status.idle": "2025-02-22T00:25:37.074298Z",
     "shell.execute_reply": "2025-02-22T00:25:37.074040Z",
     "shell.execute_reply.started": "2025-02-22T00:25:37.060637Z"
    }
   },
   "outputs": [],
   "source": [
    "# synthetic constraints\n",
    "Yhat = cind.apply(lambda x: np.sum(x.values[:, None] * pmd.almat, axis=0))"
   ]
  },
  {
   "cell_type": "code",
   "execution_count": 22,
   "metadata": {
    "ExecuteTime": {
     "end_time": "2023-03-20T18:28:26.422027Z",
     "start_time": "2023-03-20T18:28:26.406652Z"
    },
    "execution": {
     "iopub.execute_input": "2025-02-22T00:25:37.074734Z",
     "iopub.status.busy": "2025-02-22T00:25:37.074657Z",
     "iopub.status.idle": "2025-02-22T00:25:37.078008Z",
     "shell.execute_reply": "2025-02-22T00:25:37.077799Z",
     "shell.execute_reply.started": "2025-02-22T00:25:37.074725Z"
    }
   },
   "outputs": [
    {
     "data": {
      "text/html": [
       "<div>\n",
       "<style scoped>\n",
       "    .dataframe tbody tr th:only-of-type {\n",
       "        vertical-align: middle;\n",
       "    }\n",
       "\n",
       "    .dataframe tbody tr th {\n",
       "        vertical-align: top;\n",
       "    }\n",
       "\n",
       "    .dataframe thead th {\n",
       "        text-align: right;\n",
       "    }\n",
       "</style>\n",
       "<table border=\"1\" class=\"dataframe\">\n",
       "  <thead>\n",
       "    <tr style=\"text-align: right;\">\n",
       "      <th></th>\n",
       "      <th>POP</th>\n",
       "      <th>CONST1</th>\n",
       "      <th>CONST2</th>\n",
       "      <th>CONST3</th>\n",
       "      <th>CONST4</th>\n",
       "      <th>CONST5</th>\n",
       "      <th>CONST6</th>\n",
       "    </tr>\n",
       "  </thead>\n",
       "  <tbody>\n",
       "    <tr>\n",
       "      <th>0</th>\n",
       "      <td>27.184429</td>\n",
       "      <td>15.401235</td>\n",
       "      <td>22.672216</td>\n",
       "      <td>19.602915</td>\n",
       "      <td>3.069301</td>\n",
       "      <td>15.321880</td>\n",
       "      <td>5.285730</td>\n",
       "    </tr>\n",
       "    <tr>\n",
       "      <th>1</th>\n",
       "      <td>20.248196</td>\n",
       "      <td>12.773735</td>\n",
       "      <td>13.283790</td>\n",
       "      <td>11.268239</td>\n",
       "      <td>2.015551</td>\n",
       "      <td>17.428708</td>\n",
       "      <td>7.825240</td>\n",
       "    </tr>\n",
       "    <tr>\n",
       "      <th>2</th>\n",
       "      <td>28.351039</td>\n",
       "      <td>19.311255</td>\n",
       "      <td>23.197500</td>\n",
       "      <td>20.366542</td>\n",
       "      <td>2.830958</td>\n",
       "      <td>24.033277</td>\n",
       "      <td>7.768739</td>\n",
       "    </tr>\n",
       "    <tr>\n",
       "      <th>3</th>\n",
       "      <td>24.216336</td>\n",
       "      <td>17.201969</td>\n",
       "      <td>16.774845</td>\n",
       "      <td>14.710542</td>\n",
       "      <td>2.064303</td>\n",
       "      <td>23.494855</td>\n",
       "      <td>8.931491</td>\n",
       "    </tr>\n",
       "  </tbody>\n",
       "</table>\n",
       "</div>"
      ],
      "text/plain": [
       "         POP     CONST1     CONST2     CONST3    CONST4     CONST5    CONST6\n",
       "0  27.184429  15.401235  22.672216  19.602915  3.069301  15.321880  5.285730\n",
       "1  20.248196  12.773735  13.283790  11.268239  2.015551  17.428708  7.825240\n",
       "2  28.351039  19.311255  23.197500  20.366542  2.830958  24.033277  7.768739\n",
       "3  24.216336  17.201969  16.774845  14.710542  2.064303  23.494855  8.931491"
      ]
     },
     "execution_count": 22,
     "metadata": {},
     "output_type": "execute_result"
    }
   ],
   "source": [
    "Yhat"
   ]
  },
  {
   "cell_type": "code",
   "execution_count": 23,
   "metadata": {
    "ExecuteTime": {
     "end_time": "2023-03-20T18:28:26.451572Z",
     "start_time": "2023-03-20T18:28:26.423497Z"
    },
    "execution": {
     "iopub.execute_input": "2025-02-22T00:25:37.078419Z",
     "iopub.status.busy": "2025-02-22T00:25:37.078349Z",
     "iopub.status.idle": "2025-02-22T00:25:37.081159Z",
     "shell.execute_reply": "2025-02-22T00:25:37.080973Z",
     "shell.execute_reply.started": "2025-02-22T00:25:37.078411Z"
    }
   },
   "outputs": [
    {
     "data": {
      "text/html": [
       "<div>\n",
       "<style scoped>\n",
       "    .dataframe tbody tr th:only-of-type {\n",
       "        vertical-align: middle;\n",
       "    }\n",
       "\n",
       "    .dataframe tbody tr th {\n",
       "        vertical-align: top;\n",
       "    }\n",
       "\n",
       "    .dataframe thead th {\n",
       "        text-align: right;\n",
       "    }\n",
       "</style>\n",
       "<table border=\"1\" class=\"dataframe\">\n",
       "  <thead>\n",
       "    <tr style=\"text-align: right;\">\n",
       "      <th></th>\n",
       "      <th>POP</th>\n",
       "      <th>CONST1</th>\n",
       "      <th>CONST2</th>\n",
       "      <th>CONST3</th>\n",
       "      <th>CONST4</th>\n",
       "      <th>CONST5</th>\n",
       "      <th>CONST6</th>\n",
       "    </tr>\n",
       "  </thead>\n",
       "  <tbody>\n",
       "    <tr>\n",
       "      <th>10</th>\n",
       "      <td>28</td>\n",
       "      <td>15</td>\n",
       "      <td>25</td>\n",
       "      <td>15</td>\n",
       "      <td>3</td>\n",
       "      <td>16</td>\n",
       "      <td>5</td>\n",
       "    </tr>\n",
       "    <tr>\n",
       "      <th>11</th>\n",
       "      <td>20</td>\n",
       "      <td>13</td>\n",
       "      <td>13</td>\n",
       "      <td>12</td>\n",
       "      <td>2</td>\n",
       "      <td>17</td>\n",
       "      <td>8</td>\n",
       "    </tr>\n",
       "    <tr>\n",
       "      <th>20</th>\n",
       "      <td>30</td>\n",
       "      <td>18</td>\n",
       "      <td>22</td>\n",
       "      <td>20</td>\n",
       "      <td>3</td>\n",
       "      <td>27</td>\n",
       "      <td>7</td>\n",
       "    </tr>\n",
       "    <tr>\n",
       "      <th>21</th>\n",
       "      <td>22</td>\n",
       "      <td>19</td>\n",
       "      <td>15</td>\n",
       "      <td>18</td>\n",
       "      <td>2</td>\n",
       "      <td>20</td>\n",
       "      <td>10</td>\n",
       "    </tr>\n",
       "  </tbody>\n",
       "</table>\n",
       "</div>"
      ],
      "text/plain": [
       "    POP  CONST1  CONST2  CONST3  CONST4  CONST5  CONST6\n",
       "10   28      15      25      15       3      16       5\n",
       "11   20      13      13      12       2      17       8\n",
       "20   30      18      22      20       3      27       7\n",
       "21   22      19      15      18       2      20      10"
      ]
     },
     "execution_count": 23,
     "metadata": {},
     "output_type": "execute_result"
    }
   ],
   "source": [
    "cbg"
   ]
  },
  {
   "cell_type": "code",
   "execution_count": 24,
   "metadata": {
    "ExecuteTime": {
     "end_time": "2023-03-20T18:28:26.483506Z",
     "start_time": "2023-03-20T18:28:26.453245Z"
    },
    "execution": {
     "iopub.execute_input": "2025-02-22T00:25:37.081477Z",
     "iopub.status.busy": "2025-02-22T00:25:37.081420Z",
     "iopub.status.idle": "2025-02-22T00:25:37.083349Z",
     "shell.execute_reply": "2025-02-22T00:25:37.083134Z",
     "shell.execute_reply.started": "2025-02-22T00:25:37.081471Z"
    }
   },
   "outputs": [
    {
     "data": {
      "text/plain": [
       "array([[ 0.81557075, -0.40123547,  2.32778429, -4.60291505, -0.06930066,\n",
       "         0.6781197 , -0.28572984],\n",
       "       [-0.2481956 ,  0.22626491, -0.28379004,  0.73176112, -0.01555116,\n",
       "        -0.42870792,  0.17475965],\n",
       "       [ 1.64896084, -1.31125454, -1.19749985, -0.36654162,  0.16904177,\n",
       "         2.966723  , -0.76873911],\n",
       "       [-2.21633599,  1.79803063, -1.77484478,  3.28945823, -0.06430301,\n",
       "        -3.49485452,  1.06850881]])"
      ]
     },
     "execution_count": 24,
     "metadata": {},
     "output_type": "execute_result"
    }
   ],
   "source": [
    "# errors\n",
    "err = cbg.values - Yhat.values\n",
    "err"
   ]
  },
  {
   "cell_type": "code",
   "execution_count": 25,
   "metadata": {
    "ExecuteTime": {
     "end_time": "2023-03-20T18:28:26.508968Z",
     "start_time": "2023-03-20T18:28:26.484923Z"
    },
    "execution": {
     "iopub.execute_input": "2025-02-22T00:25:37.083781Z",
     "iopub.status.busy": "2025-02-22T00:25:37.083682Z",
     "iopub.status.idle": "2025-02-22T00:25:37.085982Z",
     "shell.execute_reply": "2025-02-22T00:25:37.085710Z",
     "shell.execute_reply.started": "2025-02-22T00:25:37.083775Z"
    }
   },
   "outputs": [
    {
     "data": {
      "text/plain": [
       "array([[3.29   , 2.87875, 3.70125, 4.935  , 0.8225 , 4.52375, 1.645  ],\n",
       "       [3.29   , 2.4675 , 3.70125, 3.29   , 0.8225 , 4.52375, 1.645  ],\n",
       "       [3.29   , 2.87875, 3.70125, 3.29   , 0.8225 , 4.52375, 1.645  ],\n",
       "       [3.29   , 2.87875, 3.70125, 3.29   , 0.8225 , 4.52375, 1.645  ]])"
      ]
     },
     "execution_count": 25,
     "metadata": {},
     "output_type": "execute_result"
    }
   ],
   "source": [
    "# published 90% MOEs\n",
    "moe = (sbg * 1.645).values\n",
    "moe"
   ]
  },
  {
   "cell_type": "markdown",
   "metadata": {},
   "source": [
    "Check which synthetic constraints match the published MOEs:"
   ]
  },
  {
   "cell_type": "code",
   "execution_count": 26,
   "metadata": {
    "ExecuteTime": {
     "end_time": "2023-03-20T18:28:26.541298Z",
     "start_time": "2023-03-20T18:28:26.510385Z"
    },
    "execution": {
     "iopub.execute_input": "2025-02-22T00:25:37.086450Z",
     "iopub.status.busy": "2025-02-22T00:25:37.086357Z",
     "iopub.status.idle": "2025-02-22T00:25:37.088481Z",
     "shell.execute_reply": "2025-02-22T00:25:37.088252Z",
     "shell.execute_reply.started": "2025-02-22T00:25:37.086444Z"
    }
   },
   "outputs": [
    {
     "data": {
      "text/plain": [
       "array([[ True,  True,  True,  True,  True,  True,  True],\n",
       "       [ True,  True,  True,  True,  True,  True,  True],\n",
       "       [ True,  True,  True,  True,  True,  True,  True],\n",
       "       [ True,  True,  True,  True,  True,  True,  True]])"
      ]
     },
     "execution_count": 26,
     "metadata": {},
     "output_type": "execute_result"
    }
   ],
   "source": [
    "moe_fit = np.abs(err) < moe\n",
    "moe_fit"
   ]
  },
  {
   "cell_type": "markdown",
   "metadata": {},
   "source": [
    "We can return the proportion of synthetic constraints matched to the published MOEs with:"
   ]
  },
  {
   "cell_type": "code",
   "execution_count": 27,
   "metadata": {
    "ExecuteTime": {
     "end_time": "2023-03-20T18:28:26.566909Z",
     "start_time": "2023-03-20T18:28:26.545203Z"
    },
    "execution": {
     "iopub.execute_input": "2025-02-22T00:25:37.088957Z",
     "iopub.status.busy": "2025-02-22T00:25:37.088845Z",
     "iopub.status.idle": "2025-02-22T00:25:37.090974Z",
     "shell.execute_reply": "2025-02-22T00:25:37.090751Z",
     "shell.execute_reply.started": "2025-02-22T00:25:37.088950Z"
    }
   },
   "outputs": [
    {
     "data": {
      "text/plain": [
       "np.float64(1.0)"
      ]
     },
     "execution_count": 27,
     "metadata": {},
     "output_type": "execute_result"
    }
   ],
   "source": [
    "np.sum(moe_fit.flatten()) / np.prod(moe.shape)"
   ]
  }
 ],
 "metadata": {
  "kernelspec": {
   "display_name": "Python 3 (ipykernel)",
   "language": "python",
   "name": "python3"
  },
  "language_info": {
   "codemirror_mode": {
    "name": "ipython",
    "version": 3
   },
   "file_extension": ".py",
   "mimetype": "text/x-python",
   "name": "python",
   "nbconvert_exporter": "python",
   "pygments_lexer": "ipython3",
   "version": "3.12.9"
  }
 },
 "nbformat": 4,
 "nbformat_minor": 4
}
